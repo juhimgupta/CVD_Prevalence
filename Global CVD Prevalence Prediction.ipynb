{
 "cells": [
  {
   "cell_type": "markdown",
   "metadata": {},
   "source": [
    "# Predicting Cardiovascular Disease Prevalence Globally\n",
    "\n",
    "The aim of this project is to see if we can predict cardiovascular disease prevalence by a country's natural and social environmental factors. While the biological mechanisms behind why factors such as crime in an area influence cardiovascular disease risks are a bit unclear, several studies have shown evidence for a link [1,2]. For instance, a study by Penn Medicine has shown that in neighborhoods where violent crime fell the most, cardiovascular disease mortality fell greatly as well [2]. Since cardiovascular disease has historically been quite prevalent in mine and my peer's families, I sought out publically available data on a country's economic, environmental, and geographic locations to attempt to predict cardiovascular diease prevalence in that country. "
   ]
  },
  {
   "cell_type": "code",
   "execution_count": 66,
   "metadata": {},
   "outputs": [],
   "source": [
    "#Imports\n",
    "import pandas as pd\n",
    "import numpy as np\n",
    "import statistics as st\n",
    "import seaborn as sns\n",
    "import matplotlib.pyplot as plt"
   ]
  },
  {
   "cell_type": "markdown",
   "metadata": {},
   "source": [
    "## Data Prepping"
   ]
  },
  {
   "cell_type": "markdown",
   "metadata": {},
   "source": [
    "For this study, the environmental factors I chose to select were country region, country GDP, cost of healthy diet, country air pollution, and country crime index."
   ]
  },
  {
   "cell_type": "markdown",
   "metadata": {},
   "source": [
    "### Retriving Cardiovascular Disease Prevalence for Each Country (2019)"
   ]
  },
  {
   "cell_type": "markdown",
   "metadata": {},
   "source": [
    "To gather cardiovascular disease prevalence values for each country, I used the *Institute for Health Metrics and Evaluation's* Global Health Data Exchange website [3]. "
   ]
  },
  {
   "cell_type": "code",
   "execution_count": 67,
   "metadata": {},
   "outputs": [
    {
     "data": {
      "text/html": [
       "<div>\n",
       "<style scoped>\n",
       "    .dataframe tbody tr th:only-of-type {\n",
       "        vertical-align: middle;\n",
       "    }\n",
       "\n",
       "    .dataframe tbody tr th {\n",
       "        vertical-align: top;\n",
       "    }\n",
       "\n",
       "    .dataframe thead th {\n",
       "        text-align: right;\n",
       "    }\n",
       "</style>\n",
       "<table border=\"1\" class=\"dataframe\">\n",
       "  <thead>\n",
       "    <tr style=\"text-align: right;\">\n",
       "      <th></th>\n",
       "      <th>measure_id</th>\n",
       "      <th>measure_name</th>\n",
       "      <th>location_id</th>\n",
       "      <th>location_name</th>\n",
       "      <th>sex_id</th>\n",
       "      <th>sex_name</th>\n",
       "      <th>age_id</th>\n",
       "      <th>age_name</th>\n",
       "      <th>cause_id</th>\n",
       "      <th>cause_name</th>\n",
       "      <th>metric_id</th>\n",
       "      <th>metric_name</th>\n",
       "      <th>year</th>\n",
       "      <th>val</th>\n",
       "      <th>upper</th>\n",
       "      <th>lower</th>\n",
       "    </tr>\n",
       "  </thead>\n",
       "  <tbody>\n",
       "    <tr>\n",
       "      <th>0</th>\n",
       "      <td>5</td>\n",
       "      <td>Prevalence</td>\n",
       "      <td>7</td>\n",
       "      <td>Democratic People's Republic of Korea</td>\n",
       "      <td>3</td>\n",
       "      <td>Both</td>\n",
       "      <td>22</td>\n",
       "      <td>All ages</td>\n",
       "      <td>491</td>\n",
       "      <td>Cardiovascular diseases</td>\n",
       "      <td>2</td>\n",
       "      <td>Percent</td>\n",
       "      <td>2019</td>\n",
       "      <td>0.073616</td>\n",
       "      <td>0.077607</td>\n",
       "      <td>0.069795</td>\n",
       "    </tr>\n",
       "    <tr>\n",
       "      <th>1</th>\n",
       "      <td>5</td>\n",
       "      <td>Prevalence</td>\n",
       "      <td>11</td>\n",
       "      <td>Indonesia</td>\n",
       "      <td>3</td>\n",
       "      <td>Both</td>\n",
       "      <td>22</td>\n",
       "      <td>All ages</td>\n",
       "      <td>491</td>\n",
       "      <td>Cardiovascular diseases</td>\n",
       "      <td>2</td>\n",
       "      <td>Percent</td>\n",
       "      <td>2019</td>\n",
       "      <td>0.053118</td>\n",
       "      <td>0.056436</td>\n",
       "      <td>0.050027</td>\n",
       "    </tr>\n",
       "    <tr>\n",
       "      <th>2</th>\n",
       "      <td>5</td>\n",
       "      <td>Prevalence</td>\n",
       "      <td>30</td>\n",
       "      <td>Vanuatu</td>\n",
       "      <td>3</td>\n",
       "      <td>Both</td>\n",
       "      <td>22</td>\n",
       "      <td>All ages</td>\n",
       "      <td>491</td>\n",
       "      <td>Cardiovascular diseases</td>\n",
       "      <td>2</td>\n",
       "      <td>Percent</td>\n",
       "      <td>2019</td>\n",
       "      <td>0.048644</td>\n",
       "      <td>0.051591</td>\n",
       "      <td>0.045853</td>\n",
       "    </tr>\n",
       "    <tr>\n",
       "      <th>3</th>\n",
       "      <td>5</td>\n",
       "      <td>Prevalence</td>\n",
       "      <td>6</td>\n",
       "      <td>China</td>\n",
       "      <td>3</td>\n",
       "      <td>Both</td>\n",
       "      <td>22</td>\n",
       "      <td>All ages</td>\n",
       "      <td>491</td>\n",
       "      <td>Cardiovascular diseases</td>\n",
       "      <td>2</td>\n",
       "      <td>Percent</td>\n",
       "      <td>2019</td>\n",
       "      <td>0.088297</td>\n",
       "      <td>0.094041</td>\n",
       "      <td>0.083160</td>\n",
       "    </tr>\n",
       "    <tr>\n",
       "      <th>4</th>\n",
       "      <td>5</td>\n",
       "      <td>Prevalence</td>\n",
       "      <td>18</td>\n",
       "      <td>Thailand</td>\n",
       "      <td>3</td>\n",
       "      <td>Both</td>\n",
       "      <td>22</td>\n",
       "      <td>All ages</td>\n",
       "      <td>491</td>\n",
       "      <td>Cardiovascular diseases</td>\n",
       "      <td>2</td>\n",
       "      <td>Percent</td>\n",
       "      <td>2019</td>\n",
       "      <td>0.076507</td>\n",
       "      <td>0.080784</td>\n",
       "      <td>0.072213</td>\n",
       "    </tr>\n",
       "  </tbody>\n",
       "</table>\n",
       "</div>"
      ],
      "text/plain": [
       "   measure_id measure_name  location_id  \\\n",
       "0           5   Prevalence            7   \n",
       "1           5   Prevalence           11   \n",
       "2           5   Prevalence           30   \n",
       "3           5   Prevalence            6   \n",
       "4           5   Prevalence           18   \n",
       "\n",
       "                           location_name  sex_id sex_name  age_id  age_name  \\\n",
       "0  Democratic People's Republic of Korea       3     Both      22  All ages   \n",
       "1                              Indonesia       3     Both      22  All ages   \n",
       "2                                Vanuatu       3     Both      22  All ages   \n",
       "3                                  China       3     Both      22  All ages   \n",
       "4                               Thailand       3     Both      22  All ages   \n",
       "\n",
       "   cause_id               cause_name  metric_id metric_name  year       val  \\\n",
       "0       491  Cardiovascular diseases          2     Percent  2019  0.073616   \n",
       "1       491  Cardiovascular diseases          2     Percent  2019  0.053118   \n",
       "2       491  Cardiovascular diseases          2     Percent  2019  0.048644   \n",
       "3       491  Cardiovascular diseases          2     Percent  2019  0.088297   \n",
       "4       491  Cardiovascular diseases          2     Percent  2019  0.076507   \n",
       "\n",
       "      upper     lower  \n",
       "0  0.077607  0.069795  \n",
       "1  0.056436  0.050027  \n",
       "2  0.051591  0.045853  \n",
       "3  0.094041  0.083160  \n",
       "4  0.080784  0.072213  "
      ]
     },
     "execution_count": 67,
     "metadata": {},
     "output_type": "execute_result"
    }
   ],
   "source": [
    "#Loading dataset\n",
    "CVDprev_all = pd.read_excel('/Users/guptaj/Documents/Personal Projects/HDPrevModel/CVDPrev.xlsx')\n",
    "CVDprev_all.head()"
   ]
  },
  {
   "cell_type": "code",
   "execution_count": 68,
   "metadata": {},
   "outputs": [
    {
     "data": {
      "text/html": [
       "<div>\n",
       "<style scoped>\n",
       "    .dataframe tbody tr th:only-of-type {\n",
       "        vertical-align: middle;\n",
       "    }\n",
       "\n",
       "    .dataframe tbody tr th {\n",
       "        vertical-align: top;\n",
       "    }\n",
       "\n",
       "    .dataframe thead th {\n",
       "        text-align: right;\n",
       "    }\n",
       "</style>\n",
       "<table border=\"1\" class=\"dataframe\">\n",
       "  <thead>\n",
       "    <tr style=\"text-align: right;\">\n",
       "      <th></th>\n",
       "      <th>location_name</th>\n",
       "      <th>val</th>\n",
       "    </tr>\n",
       "  </thead>\n",
       "  <tbody>\n",
       "    <tr>\n",
       "      <th>0</th>\n",
       "      <td>Democratic People's Republic of Korea</td>\n",
       "      <td>0.073616</td>\n",
       "    </tr>\n",
       "    <tr>\n",
       "      <th>1</th>\n",
       "      <td>Indonesia</td>\n",
       "      <td>0.053118</td>\n",
       "    </tr>\n",
       "    <tr>\n",
       "      <th>2</th>\n",
       "      <td>Vanuatu</td>\n",
       "      <td>0.048644</td>\n",
       "    </tr>\n",
       "    <tr>\n",
       "      <th>3</th>\n",
       "      <td>China</td>\n",
       "      <td>0.088297</td>\n",
       "    </tr>\n",
       "    <tr>\n",
       "      <th>4</th>\n",
       "      <td>Thailand</td>\n",
       "      <td>0.076507</td>\n",
       "    </tr>\n",
       "  </tbody>\n",
       "</table>\n",
       "</div>"
      ],
      "text/plain": [
       "                           location_name       val\n",
       "0  Democratic People's Republic of Korea  0.073616\n",
       "1                              Indonesia  0.053118\n",
       "2                                Vanuatu  0.048644\n",
       "3                                  China  0.088297\n",
       "4                               Thailand  0.076507"
      ]
     },
     "execution_count": 68,
     "metadata": {},
     "output_type": "execute_result"
    }
   ],
   "source": [
    "#Getting only country name and CVD prevalence value\n",
    "CVDprev = CVDprev_all[[\"location_name\",\"val\"]]\n",
    "CVDprev.head()"
   ]
  },
  {
   "cell_type": "code",
   "execution_count": 69,
   "metadata": {},
   "outputs": [],
   "source": [
    "#Changing the names of columns and creating a new dataframe (df) that the response and predictors will be stored in\n",
    "df = CVDprev.rename(columns={\"location_name\":\"Country\",\"val\":\"CVD Prev\"})"
   ]
  },
  {
   "cell_type": "code",
   "execution_count": 70,
   "metadata": {},
   "outputs": [
    {
     "data": {
      "text/html": [
       "<div>\n",
       "<style scoped>\n",
       "    .dataframe tbody tr th:only-of-type {\n",
       "        vertical-align: middle;\n",
       "    }\n",
       "\n",
       "    .dataframe tbody tr th {\n",
       "        vertical-align: top;\n",
       "    }\n",
       "\n",
       "    .dataframe thead th {\n",
       "        text-align: right;\n",
       "    }\n",
       "</style>\n",
       "<table border=\"1\" class=\"dataframe\">\n",
       "  <thead>\n",
       "    <tr style=\"text-align: right;\">\n",
       "      <th></th>\n",
       "      <th>Country</th>\n",
       "      <th>CVD Prev</th>\n",
       "    </tr>\n",
       "  </thead>\n",
       "  <tbody>\n",
       "    <tr>\n",
       "      <th>0</th>\n",
       "      <td>Democratic People's Republic of Korea</td>\n",
       "      <td>0.073616</td>\n",
       "    </tr>\n",
       "    <tr>\n",
       "      <th>1</th>\n",
       "      <td>Indonesia</td>\n",
       "      <td>0.053118</td>\n",
       "    </tr>\n",
       "    <tr>\n",
       "      <th>2</th>\n",
       "      <td>Vanuatu</td>\n",
       "      <td>0.048644</td>\n",
       "    </tr>\n",
       "    <tr>\n",
       "      <th>3</th>\n",
       "      <td>China</td>\n",
       "      <td>0.088297</td>\n",
       "    </tr>\n",
       "    <tr>\n",
       "      <th>4</th>\n",
       "      <td>Thailand</td>\n",
       "      <td>0.076507</td>\n",
       "    </tr>\n",
       "  </tbody>\n",
       "</table>\n",
       "</div>"
      ],
      "text/plain": [
       "                                 Country  CVD Prev\n",
       "0  Democratic People's Republic of Korea  0.073616\n",
       "1                              Indonesia  0.053118\n",
       "2                                Vanuatu  0.048644\n",
       "3                                  China  0.088297\n",
       "4                               Thailand  0.076507"
      ]
     },
     "execution_count": 70,
     "metadata": {},
     "output_type": "execute_result"
    }
   ],
   "source": [
    "df.head()"
   ]
  },
  {
   "cell_type": "markdown",
   "metadata": {},
   "source": [
    "### Retriving Country GDP and Region"
   ]
  },
  {
   "cell_type": "markdown",
   "metadata": {},
   "source": [
    "To retrieve each country's Gross Domestic Product (GDP) and its region, I used data from the *World Bank* [4]. "
   ]
  },
  {
   "cell_type": "code",
   "execution_count": 71,
   "metadata": {},
   "outputs": [],
   "source": [
    "#Loading datasets\n",
    "GDP_all = pd.read_excel('/Users/guptaj/Documents/Personal Projects/HDPrevModel/GDP_country.xlsx')\n",
    "region_all = pd.read_excel('/Users/guptaj/Documents/Personal Projects/HDPrevModel/GDP_country.xlsx', sheet_name=\"Metadata - Countries\")"
   ]
  },
  {
   "cell_type": "code",
   "execution_count": 72,
   "metadata": {},
   "outputs": [
    {
     "data": {
      "text/html": [
       "<div>\n",
       "<style scoped>\n",
       "    .dataframe tbody tr th:only-of-type {\n",
       "        vertical-align: middle;\n",
       "    }\n",
       "\n",
       "    .dataframe tbody tr th {\n",
       "        vertical-align: top;\n",
       "    }\n",
       "\n",
       "    .dataframe thead th {\n",
       "        text-align: right;\n",
       "    }\n",
       "</style>\n",
       "<table border=\"1\" class=\"dataframe\">\n",
       "  <thead>\n",
       "    <tr style=\"text-align: right;\">\n",
       "      <th></th>\n",
       "      <th>Data Source</th>\n",
       "      <th>World Development Indicators</th>\n",
       "      <th>Unnamed: 2</th>\n",
       "      <th>Unnamed: 3</th>\n",
       "      <th>Unnamed: 4</th>\n",
       "      <th>Unnamed: 5</th>\n",
       "      <th>Unnamed: 6</th>\n",
       "      <th>Unnamed: 7</th>\n",
       "      <th>Unnamed: 8</th>\n",
       "      <th>Unnamed: 9</th>\n",
       "      <th>...</th>\n",
       "      <th>Unnamed: 57</th>\n",
       "      <th>Unnamed: 58</th>\n",
       "      <th>Unnamed: 59</th>\n",
       "      <th>Unnamed: 60</th>\n",
       "      <th>Unnamed: 61</th>\n",
       "      <th>Unnamed: 62</th>\n",
       "      <th>Unnamed: 63</th>\n",
       "      <th>Unnamed: 64</th>\n",
       "      <th>Unnamed: 65</th>\n",
       "      <th>Unnamed: 66</th>\n",
       "    </tr>\n",
       "  </thead>\n",
       "  <tbody>\n",
       "    <tr>\n",
       "      <th>0</th>\n",
       "      <td>Last Updated Date</td>\n",
       "      <td>2023-06-29 00:00:00</td>\n",
       "      <td>NaN</td>\n",
       "      <td>NaN</td>\n",
       "      <td>NaN</td>\n",
       "      <td>NaN</td>\n",
       "      <td>NaN</td>\n",
       "      <td>NaN</td>\n",
       "      <td>NaN</td>\n",
       "      <td>NaN</td>\n",
       "      <td>...</td>\n",
       "      <td>NaN</td>\n",
       "      <td>NaN</td>\n",
       "      <td>NaN</td>\n",
       "      <td>NaN</td>\n",
       "      <td>NaN</td>\n",
       "      <td>NaN</td>\n",
       "      <td>NaN</td>\n",
       "      <td>NaN</td>\n",
       "      <td>NaN</td>\n",
       "      <td>NaN</td>\n",
       "    </tr>\n",
       "    <tr>\n",
       "      <th>1</th>\n",
       "      <td>NaN</td>\n",
       "      <td>NaN</td>\n",
       "      <td>NaN</td>\n",
       "      <td>NaN</td>\n",
       "      <td>NaN</td>\n",
       "      <td>NaN</td>\n",
       "      <td>NaN</td>\n",
       "      <td>NaN</td>\n",
       "      <td>NaN</td>\n",
       "      <td>NaN</td>\n",
       "      <td>...</td>\n",
       "      <td>NaN</td>\n",
       "      <td>NaN</td>\n",
       "      <td>NaN</td>\n",
       "      <td>NaN</td>\n",
       "      <td>NaN</td>\n",
       "      <td>NaN</td>\n",
       "      <td>NaN</td>\n",
       "      <td>NaN</td>\n",
       "      <td>NaN</td>\n",
       "      <td>NaN</td>\n",
       "    </tr>\n",
       "    <tr>\n",
       "      <th>2</th>\n",
       "      <td>Country Name</td>\n",
       "      <td>Country Code</td>\n",
       "      <td>Indicator Name</td>\n",
       "      <td>Indicator Code</td>\n",
       "      <td>1.960000e+03</td>\n",
       "      <td>1.961000e+03</td>\n",
       "      <td>1.962000e+03</td>\n",
       "      <td>1.963000e+03</td>\n",
       "      <td>1.964000e+03</td>\n",
       "      <td>1.965000e+03</td>\n",
       "      <td>...</td>\n",
       "      <td>2.013000e+03</td>\n",
       "      <td>2.014000e+03</td>\n",
       "      <td>2.015000e+03</td>\n",
       "      <td>2.016000e+03</td>\n",
       "      <td>2.017000e+03</td>\n",
       "      <td>2.018000e+03</td>\n",
       "      <td>2.019000e+03</td>\n",
       "      <td>2.020000e+03</td>\n",
       "      <td>2.021000e+03</td>\n",
       "      <td>2.022000e+03</td>\n",
       "    </tr>\n",
       "    <tr>\n",
       "      <th>3</th>\n",
       "      <td>Aruba</td>\n",
       "      <td>ABW</td>\n",
       "      <td>GDP (current US$)</td>\n",
       "      <td>NY.GDP.MKTP.CD</td>\n",
       "      <td>NaN</td>\n",
       "      <td>NaN</td>\n",
       "      <td>NaN</td>\n",
       "      <td>NaN</td>\n",
       "      <td>NaN</td>\n",
       "      <td>NaN</td>\n",
       "      <td>...</td>\n",
       "      <td>2.727933e+09</td>\n",
       "      <td>2.791061e+09</td>\n",
       "      <td>2.963128e+09</td>\n",
       "      <td>2.983799e+09</td>\n",
       "      <td>3.092179e+09</td>\n",
       "      <td>3.276188e+09</td>\n",
       "      <td>3.395794e+09</td>\n",
       "      <td>2.610039e+09</td>\n",
       "      <td>3.126019e+09</td>\n",
       "      <td>NaN</td>\n",
       "    </tr>\n",
       "    <tr>\n",
       "      <th>4</th>\n",
       "      <td>Africa Eastern and Southern</td>\n",
       "      <td>AFE</td>\n",
       "      <td>GDP (current US$)</td>\n",
       "      <td>NY.GDP.MKTP.CD</td>\n",
       "      <td>2.112502e+10</td>\n",
       "      <td>2.161623e+10</td>\n",
       "      <td>2.350628e+10</td>\n",
       "      <td>2.804836e+10</td>\n",
       "      <td>2.592067e+10</td>\n",
       "      <td>2.947210e+10</td>\n",
       "      <td>...</td>\n",
       "      <td>9.859871e+11</td>\n",
       "      <td>1.006526e+12</td>\n",
       "      <td>9.273485e+11</td>\n",
       "      <td>8.851764e+11</td>\n",
       "      <td>1.021043e+12</td>\n",
       "      <td>1.007196e+12</td>\n",
       "      <td>1.000834e+12</td>\n",
       "      <td>9.275933e+11</td>\n",
       "      <td>1.081998e+12</td>\n",
       "      <td>1.169484e+12</td>\n",
       "    </tr>\n",
       "  </tbody>\n",
       "</table>\n",
       "<p>5 rows × 67 columns</p>\n",
       "</div>"
      ],
      "text/plain": [
       "                   Data Source World Development Indicators  \\\n",
       "0            Last Updated Date          2023-06-29 00:00:00   \n",
       "1                          NaN                          NaN   \n",
       "2                 Country Name                 Country Code   \n",
       "3                        Aruba                          ABW   \n",
       "4  Africa Eastern and Southern                          AFE   \n",
       "\n",
       "          Unnamed: 2      Unnamed: 3    Unnamed: 4    Unnamed: 5  \\\n",
       "0                NaN             NaN           NaN           NaN   \n",
       "1                NaN             NaN           NaN           NaN   \n",
       "2     Indicator Name  Indicator Code  1.960000e+03  1.961000e+03   \n",
       "3  GDP (current US$)  NY.GDP.MKTP.CD           NaN           NaN   \n",
       "4  GDP (current US$)  NY.GDP.MKTP.CD  2.112502e+10  2.161623e+10   \n",
       "\n",
       "     Unnamed: 6    Unnamed: 7    Unnamed: 8    Unnamed: 9  ...   Unnamed: 57  \\\n",
       "0           NaN           NaN           NaN           NaN  ...           NaN   \n",
       "1           NaN           NaN           NaN           NaN  ...           NaN   \n",
       "2  1.962000e+03  1.963000e+03  1.964000e+03  1.965000e+03  ...  2.013000e+03   \n",
       "3           NaN           NaN           NaN           NaN  ...  2.727933e+09   \n",
       "4  2.350628e+10  2.804836e+10  2.592067e+10  2.947210e+10  ...  9.859871e+11   \n",
       "\n",
       "    Unnamed: 58   Unnamed: 59   Unnamed: 60   Unnamed: 61   Unnamed: 62  \\\n",
       "0           NaN           NaN           NaN           NaN           NaN   \n",
       "1           NaN           NaN           NaN           NaN           NaN   \n",
       "2  2.014000e+03  2.015000e+03  2.016000e+03  2.017000e+03  2.018000e+03   \n",
       "3  2.791061e+09  2.963128e+09  2.983799e+09  3.092179e+09  3.276188e+09   \n",
       "4  1.006526e+12  9.273485e+11  8.851764e+11  1.021043e+12  1.007196e+12   \n",
       "\n",
       "    Unnamed: 63   Unnamed: 64   Unnamed: 65   Unnamed: 66  \n",
       "0           NaN           NaN           NaN           NaN  \n",
       "1           NaN           NaN           NaN           NaN  \n",
       "2  2.019000e+03  2.020000e+03  2.021000e+03  2.022000e+03  \n",
       "3  3.395794e+09  2.610039e+09  3.126019e+09           NaN  \n",
       "4  1.000834e+12  9.275933e+11  1.081998e+12  1.169484e+12  \n",
       "\n",
       "[5 rows x 67 columns]"
      ]
     },
     "execution_count": 72,
     "metadata": {},
     "output_type": "execute_result"
    }
   ],
   "source": [
    "GDP_all.head()"
   ]
  },
  {
   "cell_type": "markdown",
   "metadata": {},
   "source": [
    "We can see from the initial look that the first two rows do not contain data but rather when the data was last updated. \n",
    "To fix this, we can delete the first two rows and make row 2, which contains data labels, our header. "
   ]
  },
  {
   "cell_type": "code",
   "execution_count": 73,
   "metadata": {},
   "outputs": [],
   "source": [
    "#Delete  first two rows and making row 2 the header\n",
    "GDP_all = GDP_all.loc[2:len(GDP_all),:].reset_index()\n",
    "GDP_all.columns = GDP_all.iloc[0]\n",
    "GDP_all = GDP_all[1:].reset_index()"
   ]
  },
  {
   "cell_type": "code",
   "execution_count": 74,
   "metadata": {},
   "outputs": [],
   "source": [
    "#looking for the 2019 data and extracting our country and its respective GDP\n",
    "GDP_country = pd.Series(GDP_all[\"Country Name\"],name=\"Country\")\n",
    "GDP = pd.Series(GDP_all[2019.0], name='GDP')\n",
    "gdp_df = pd.concat([GDP_country,GDP], axis=1).reset_index()"
   ]
  },
  {
   "cell_type": "code",
   "execution_count": 75,
   "metadata": {},
   "outputs": [
    {
     "data": {
      "text/html": [
       "<div>\n",
       "<style scoped>\n",
       "    .dataframe tbody tr th:only-of-type {\n",
       "        vertical-align: middle;\n",
       "    }\n",
       "\n",
       "    .dataframe tbody tr th {\n",
       "        vertical-align: top;\n",
       "    }\n",
       "\n",
       "    .dataframe thead th {\n",
       "        text-align: right;\n",
       "    }\n",
       "</style>\n",
       "<table border=\"1\" class=\"dataframe\">\n",
       "  <thead>\n",
       "    <tr style=\"text-align: right;\">\n",
       "      <th></th>\n",
       "      <th>index</th>\n",
       "      <th>Country</th>\n",
       "      <th>GDP</th>\n",
       "    </tr>\n",
       "  </thead>\n",
       "  <tbody>\n",
       "    <tr>\n",
       "      <th>0</th>\n",
       "      <td>0</td>\n",
       "      <td>Aruba</td>\n",
       "      <td>3.395794e+09</td>\n",
       "    </tr>\n",
       "    <tr>\n",
       "      <th>1</th>\n",
       "      <td>1</td>\n",
       "      <td>Africa Eastern and Southern</td>\n",
       "      <td>1.000834e+12</td>\n",
       "    </tr>\n",
       "    <tr>\n",
       "      <th>2</th>\n",
       "      <td>2</td>\n",
       "      <td>Afghanistan</td>\n",
       "      <td>1.890450e+10</td>\n",
       "    </tr>\n",
       "    <tr>\n",
       "      <th>3</th>\n",
       "      <td>3</td>\n",
       "      <td>Africa Western and Central</td>\n",
       "      <td>8.225384e+11</td>\n",
       "    </tr>\n",
       "    <tr>\n",
       "      <th>4</th>\n",
       "      <td>4</td>\n",
       "      <td>Angola</td>\n",
       "      <td>6.930911e+10</td>\n",
       "    </tr>\n",
       "  </tbody>\n",
       "</table>\n",
       "</div>"
      ],
      "text/plain": [
       "   index                      Country           GDP\n",
       "0      0                        Aruba  3.395794e+09\n",
       "1      1  Africa Eastern and Southern  1.000834e+12\n",
       "2      2                  Afghanistan  1.890450e+10\n",
       "3      3   Africa Western and Central  8.225384e+11\n",
       "4      4                       Angola  6.930911e+10"
      ]
     },
     "execution_count": 75,
     "metadata": {},
     "output_type": "execute_result"
    }
   ],
   "source": [
    "gdp_df.head()"
   ]
  },
  {
   "cell_type": "code",
   "execution_count": 76,
   "metadata": {},
   "outputs": [],
   "source": [
    "#Merging the main dataframe (df) and the GDP dataframe\n",
    "df = pd.merge(df,gdp_df,on=\"Country\")\n",
    "df = df.drop([\"index\"], axis=1) #Dont need index column anymore"
   ]
  },
  {
   "cell_type": "code",
   "execution_count": 77,
   "metadata": {},
   "outputs": [
    {
     "data": {
      "text/html": [
       "<div>\n",
       "<style scoped>\n",
       "    .dataframe tbody tr th:only-of-type {\n",
       "        vertical-align: middle;\n",
       "    }\n",
       "\n",
       "    .dataframe tbody tr th {\n",
       "        vertical-align: top;\n",
       "    }\n",
       "\n",
       "    .dataframe thead th {\n",
       "        text-align: right;\n",
       "    }\n",
       "</style>\n",
       "<table border=\"1\" class=\"dataframe\">\n",
       "  <thead>\n",
       "    <tr style=\"text-align: right;\">\n",
       "      <th></th>\n",
       "      <th>Country Code</th>\n",
       "      <th>Region</th>\n",
       "      <th>IncomeGroup</th>\n",
       "      <th>SpecialNotes</th>\n",
       "      <th>TableName</th>\n",
       "    </tr>\n",
       "  </thead>\n",
       "  <tbody>\n",
       "    <tr>\n",
       "      <th>0</th>\n",
       "      <td>ABW</td>\n",
       "      <td>Latin America &amp; Caribbean</td>\n",
       "      <td>High income</td>\n",
       "      <td>NaN</td>\n",
       "      <td>Aruba</td>\n",
       "    </tr>\n",
       "    <tr>\n",
       "      <th>1</th>\n",
       "      <td>AFE</td>\n",
       "      <td>NaN</td>\n",
       "      <td>NaN</td>\n",
       "      <td>26 countries, stretching from the Red Sea in t...</td>\n",
       "      <td>Africa Eastern and Southern</td>\n",
       "    </tr>\n",
       "    <tr>\n",
       "      <th>2</th>\n",
       "      <td>AFG</td>\n",
       "      <td>South Asia</td>\n",
       "      <td>Low income</td>\n",
       "      <td>The reporting period for national accounts dat...</td>\n",
       "      <td>Afghanistan</td>\n",
       "    </tr>\n",
       "    <tr>\n",
       "      <th>3</th>\n",
       "      <td>AFW</td>\n",
       "      <td>NaN</td>\n",
       "      <td>NaN</td>\n",
       "      <td>22 countries, stretching from the westernmost ...</td>\n",
       "      <td>Africa Western and Central</td>\n",
       "    </tr>\n",
       "    <tr>\n",
       "      <th>4</th>\n",
       "      <td>AGO</td>\n",
       "      <td>Sub-Saharan Africa</td>\n",
       "      <td>Lower middle income</td>\n",
       "      <td>The World Bank systematically assesses the app...</td>\n",
       "      <td>Angola</td>\n",
       "    </tr>\n",
       "  </tbody>\n",
       "</table>\n",
       "</div>"
      ],
      "text/plain": [
       "  Country Code                     Region          IncomeGroup  \\\n",
       "0          ABW  Latin America & Caribbean          High income   \n",
       "1          AFE                        NaN                  NaN   \n",
       "2          AFG                 South Asia           Low income   \n",
       "3          AFW                        NaN                  NaN   \n",
       "4          AGO         Sub-Saharan Africa  Lower middle income   \n",
       "\n",
       "                                        SpecialNotes  \\\n",
       "0                                                NaN   \n",
       "1  26 countries, stretching from the Red Sea in t...   \n",
       "2  The reporting period for national accounts dat...   \n",
       "3  22 countries, stretching from the westernmost ...   \n",
       "4  The World Bank systematically assesses the app...   \n",
       "\n",
       "                     TableName  \n",
       "0                        Aruba  \n",
       "1  Africa Eastern and Southern  \n",
       "2                  Afghanistan  \n",
       "3   Africa Western and Central  \n",
       "4                       Angola  "
      ]
     },
     "execution_count": 77,
     "metadata": {},
     "output_type": "execute_result"
    }
   ],
   "source": [
    "region_all.head()"
   ]
  },
  {
   "cell_type": "code",
   "execution_count": 78,
   "metadata": {},
   "outputs": [],
   "source": [
    "#Retriving country name and its region from region data\n",
    "region_df = region_all[[\"TableName\",\"Region\"]]\n",
    "region_df = region_df.rename(columns={\"TableName\":\"Country\"})"
   ]
  },
  {
   "cell_type": "code",
   "execution_count": 79,
   "metadata": {},
   "outputs": [],
   "source": [
    "#Merging the main dataframe (df) and the region dataframe\n",
    "df = pd.merge(df,region_df,on=\"Country\")"
   ]
  },
  {
   "cell_type": "markdown",
   "metadata": {},
   "source": [
    "### Retriving Cost of a Healthy Diet "
   ]
  },
  {
   "cell_type": "markdown",
   "metadata": {},
   "source": [
    "The estimates of the cost of a healthy diet in each country was collected from the *Food and Agriculture Organization of the United Nations'* website [5]. "
   ]
  },
  {
   "cell_type": "code",
   "execution_count": 80,
   "metadata": {},
   "outputs": [],
   "source": [
    "#Loading dataset\n",
    "costdiet_all = pd.read_excel('/Users/guptaj/Documents/Personal Projects/HDPrevModel/CostofDiet_Country.xlsx')"
   ]
  },
  {
   "cell_type": "code",
   "execution_count": 81,
   "metadata": {},
   "outputs": [
    {
     "data": {
      "text/html": [
       "<div>\n",
       "<style scoped>\n",
       "    .dataframe tbody tr th:only-of-type {\n",
       "        vertical-align: middle;\n",
       "    }\n",
       "\n",
       "    .dataframe tbody tr th {\n",
       "        vertical-align: top;\n",
       "    }\n",
       "\n",
       "    .dataframe thead th {\n",
       "        text-align: right;\n",
       "    }\n",
       "</style>\n",
       "<table border=\"1\" class=\"dataframe\">\n",
       "  <thead>\n",
       "    <tr style=\"text-align: right;\">\n",
       "      <th></th>\n",
       "      <th>Area Code</th>\n",
       "      <th>Area Code (M49)</th>\n",
       "      <th>Area</th>\n",
       "      <th>Item Code</th>\n",
       "      <th>Item</th>\n",
       "      <th>Element Code</th>\n",
       "      <th>Element</th>\n",
       "      <th>Unit</th>\n",
       "      <th>Y2017</th>\n",
       "      <th>Y2017F</th>\n",
       "      <th>Y2018</th>\n",
       "      <th>Y2018F</th>\n",
       "      <th>Y2019</th>\n",
       "      <th>Y2019F</th>\n",
       "      <th>Y2020</th>\n",
       "      <th>Y2020F</th>\n",
       "      <th>Y2021</th>\n",
       "      <th>Y2021F</th>\n",
       "    </tr>\n",
       "  </thead>\n",
       "  <tbody>\n",
       "    <tr>\n",
       "      <th>0</th>\n",
       "      <td>3</td>\n",
       "      <td>'008</td>\n",
       "      <td>Albania</td>\n",
       "      <td>7004</td>\n",
       "      <td>Cost of a healthy diet (PPP dollar per person ...</td>\n",
       "      <td>6226</td>\n",
       "      <td>Value</td>\n",
       "      <td>PPP dollar per person per day</td>\n",
       "      <td>3.952</td>\n",
       "      <td>E</td>\n",
       "      <td>4.069</td>\n",
       "      <td>E</td>\n",
       "      <td>4.262</td>\n",
       "      <td>E</td>\n",
       "      <td>4.28</td>\n",
       "      <td>E</td>\n",
       "      <td>4.388</td>\n",
       "      <td>E</td>\n",
       "    </tr>\n",
       "    <tr>\n",
       "      <th>1</th>\n",
       "      <td>3</td>\n",
       "      <td>'008</td>\n",
       "      <td>Albania</td>\n",
       "      <td>7007</td>\n",
       "      <td>Cost of starchy staples</td>\n",
       "      <td>6226</td>\n",
       "      <td>Value</td>\n",
       "      <td>PPP dollar per person per day</td>\n",
       "      <td>0.599</td>\n",
       "      <td>E</td>\n",
       "      <td>NaN</td>\n",
       "      <td>NaN</td>\n",
       "      <td>NaN</td>\n",
       "      <td>NaN</td>\n",
       "      <td>NaN</td>\n",
       "      <td>NaN</td>\n",
       "      <td>NaN</td>\n",
       "      <td>NaN</td>\n",
       "    </tr>\n",
       "    <tr>\n",
       "      <th>2</th>\n",
       "      <td>3</td>\n",
       "      <td>'008</td>\n",
       "      <td>Albania</td>\n",
       "      <td>7008</td>\n",
       "      <td>Cost of animal source foods</td>\n",
       "      <td>6226</td>\n",
       "      <td>Value</td>\n",
       "      <td>PPP dollar per person per day</td>\n",
       "      <td>1.204</td>\n",
       "      <td>E</td>\n",
       "      <td>NaN</td>\n",
       "      <td>NaN</td>\n",
       "      <td>NaN</td>\n",
       "      <td>NaN</td>\n",
       "      <td>NaN</td>\n",
       "      <td>NaN</td>\n",
       "      <td>NaN</td>\n",
       "      <td>NaN</td>\n",
       "    </tr>\n",
       "    <tr>\n",
       "      <th>3</th>\n",
       "      <td>3</td>\n",
       "      <td>'008</td>\n",
       "      <td>Albania</td>\n",
       "      <td>7009</td>\n",
       "      <td>Cost of legumes, nuts and seeds</td>\n",
       "      <td>6226</td>\n",
       "      <td>Value</td>\n",
       "      <td>PPP dollar per person per day</td>\n",
       "      <td>0.441</td>\n",
       "      <td>E</td>\n",
       "      <td>NaN</td>\n",
       "      <td>NaN</td>\n",
       "      <td>NaN</td>\n",
       "      <td>NaN</td>\n",
       "      <td>NaN</td>\n",
       "      <td>NaN</td>\n",
       "      <td>NaN</td>\n",
       "      <td>NaN</td>\n",
       "    </tr>\n",
       "    <tr>\n",
       "      <th>4</th>\n",
       "      <td>3</td>\n",
       "      <td>'008</td>\n",
       "      <td>Albania</td>\n",
       "      <td>7010</td>\n",
       "      <td>Cost of vegetables</td>\n",
       "      <td>6226</td>\n",
       "      <td>Value</td>\n",
       "      <td>PPP dollar per person per day</td>\n",
       "      <td>0.707</td>\n",
       "      <td>E</td>\n",
       "      <td>NaN</td>\n",
       "      <td>NaN</td>\n",
       "      <td>NaN</td>\n",
       "      <td>NaN</td>\n",
       "      <td>NaN</td>\n",
       "      <td>NaN</td>\n",
       "      <td>NaN</td>\n",
       "      <td>NaN</td>\n",
       "    </tr>\n",
       "  </tbody>\n",
       "</table>\n",
       "</div>"
      ],
      "text/plain": [
       "   Area Code Area Code (M49)     Area  Item Code  \\\n",
       "0          3            '008  Albania       7004   \n",
       "1          3            '008  Albania       7007   \n",
       "2          3            '008  Albania       7008   \n",
       "3          3            '008  Albania       7009   \n",
       "4          3            '008  Albania       7010   \n",
       "\n",
       "                                                Item  Element Code Element  \\\n",
       "0  Cost of a healthy diet (PPP dollar per person ...          6226   Value   \n",
       "1                            Cost of starchy staples          6226   Value   \n",
       "2                        Cost of animal source foods          6226   Value   \n",
       "3                    Cost of legumes, nuts and seeds          6226   Value   \n",
       "4                                 Cost of vegetables          6226   Value   \n",
       "\n",
       "                            Unit  Y2017 Y2017F  Y2018 Y2018F  Y2019 Y2019F  \\\n",
       "0  PPP dollar per person per day  3.952      E  4.069      E  4.262      E   \n",
       "1  PPP dollar per person per day  0.599      E    NaN    NaN    NaN    NaN   \n",
       "2  PPP dollar per person per day  1.204      E    NaN    NaN    NaN    NaN   \n",
       "3  PPP dollar per person per day  0.441      E    NaN    NaN    NaN    NaN   \n",
       "4  PPP dollar per person per day  0.707      E    NaN    NaN    NaN    NaN   \n",
       "\n",
       "   Y2020 Y2020F  Y2021 Y2021F  \n",
       "0   4.28      E  4.388      E  \n",
       "1    NaN    NaN    NaN    NaN  \n",
       "2    NaN    NaN    NaN    NaN  \n",
       "3    NaN    NaN    NaN    NaN  \n",
       "4    NaN    NaN    NaN    NaN  "
      ]
     },
     "execution_count": 81,
     "metadata": {},
     "output_type": "execute_result"
    }
   ],
   "source": [
    "costdiet_all.head()"
   ]
  },
  {
   "cell_type": "code",
   "execution_count": 82,
   "metadata": {},
   "outputs": [],
   "source": [
    "#Keeping the rows with data on the \"Cost of a healthy diet\" from Item column\n",
    "costdiet = costdiet_all[costdiet_all[\"Item\"]==\"Cost of a healthy diet (PPP dollar per person per day)\"]"
   ]
  },
  {
   "cell_type": "code",
   "execution_count": 83,
   "metadata": {},
   "outputs": [],
   "source": [
    "#Retrieving data from 2019 and country name\n",
    "costdiet_country = costdiet[\"Area\"]\n",
    "costdiet_value = costdiet[\"Y2019\"]\n",
    "costdiet_df = pd.concat([costdiet_country,costdiet_value], axis=1).reset_index()\n",
    "costdiet_df = costdiet_df.rename(columns={\"Area\":\"Country\",\"Y2019\":\"Cost of Healthy Diet\"})"
   ]
  },
  {
   "cell_type": "code",
   "execution_count": 84,
   "metadata": {},
   "outputs": [
    {
     "data": {
      "text/html": [
       "<div>\n",
       "<style scoped>\n",
       "    .dataframe tbody tr th:only-of-type {\n",
       "        vertical-align: middle;\n",
       "    }\n",
       "\n",
       "    .dataframe tbody tr th {\n",
       "        vertical-align: top;\n",
       "    }\n",
       "\n",
       "    .dataframe thead th {\n",
       "        text-align: right;\n",
       "    }\n",
       "</style>\n",
       "<table border=\"1\" class=\"dataframe\">\n",
       "  <thead>\n",
       "    <tr style=\"text-align: right;\">\n",
       "      <th></th>\n",
       "      <th>index</th>\n",
       "      <th>Country</th>\n",
       "      <th>Cost of Healthy Diet</th>\n",
       "    </tr>\n",
       "  </thead>\n",
       "  <tbody>\n",
       "    <tr>\n",
       "      <th>0</th>\n",
       "      <td>0</td>\n",
       "      <td>Albania</td>\n",
       "      <td>4.262</td>\n",
       "    </tr>\n",
       "    <tr>\n",
       "      <th>1</th>\n",
       "      <td>9</td>\n",
       "      <td>Algeria</td>\n",
       "      <td>3.796</td>\n",
       "    </tr>\n",
       "    <tr>\n",
       "      <th>2</th>\n",
       "      <td>18</td>\n",
       "      <td>Angola</td>\n",
       "      <td>4.352</td>\n",
       "    </tr>\n",
       "    <tr>\n",
       "      <th>3</th>\n",
       "      <td>33</td>\n",
       "      <td>Antigua and Barbuda</td>\n",
       "      <td>4.391</td>\n",
       "    </tr>\n",
       "    <tr>\n",
       "      <th>4</th>\n",
       "      <td>42</td>\n",
       "      <td>Argentina</td>\n",
       "      <td>NaN</td>\n",
       "    </tr>\n",
       "  </tbody>\n",
       "</table>\n",
       "</div>"
      ],
      "text/plain": [
       "   index              Country  Cost of Healthy Diet\n",
       "0      0              Albania                 4.262\n",
       "1      9              Algeria                 3.796\n",
       "2     18               Angola                 4.352\n",
       "3     33  Antigua and Barbuda                 4.391\n",
       "4     42            Argentina                   NaN"
      ]
     },
     "execution_count": 84,
     "metadata": {},
     "output_type": "execute_result"
    }
   ],
   "source": [
    "costdiet_df.head()"
   ]
  },
  {
   "cell_type": "code",
   "execution_count": 85,
   "metadata": {},
   "outputs": [],
   "source": [
    "#Merging the main dataframe (df) and the cost of a healthy diet dataframe\n",
    "df = pd.merge(df,costdiet_df,on=\"Country\")\n",
    "df = df.drop([\"index\"], axis=1) #Dont need index column anymore"
   ]
  },
  {
   "cell_type": "markdown",
   "metadata": {},
   "source": [
    "### Retriving Country Air Pollution"
   ]
  },
  {
   "cell_type": "markdown",
   "metadata": {},
   "source": [
    "Air pollution data from each country was collected from the *Our World in Data* website [6]. "
   ]
  },
  {
   "cell_type": "code",
   "execution_count": 86,
   "metadata": {},
   "outputs": [],
   "source": [
    "#Loading dataset\n",
    "airpoll_all = pd.read_excel('/Users/guptaj/Documents/Personal Projects/HDPrevModel/AirPollution_Country.xlsx')"
   ]
  },
  {
   "cell_type": "code",
   "execution_count": 87,
   "metadata": {},
   "outputs": [
    {
     "data": {
      "text/html": [
       "<div>\n",
       "<style scoped>\n",
       "    .dataframe tbody tr th:only-of-type {\n",
       "        vertical-align: middle;\n",
       "    }\n",
       "\n",
       "    .dataframe tbody tr th {\n",
       "        vertical-align: top;\n",
       "    }\n",
       "\n",
       "    .dataframe thead th {\n",
       "        text-align: right;\n",
       "    }\n",
       "</style>\n",
       "<table border=\"1\" class=\"dataframe\">\n",
       "  <thead>\n",
       "    <tr style=\"text-align: right;\">\n",
       "      <th></th>\n",
       "      <th>Entity</th>\n",
       "      <th>Code</th>\n",
       "      <th>Year</th>\n",
       "      <th>PM2.5 air pollution, mean annual exposure (micrograms per cubic meter)</th>\n",
       "    </tr>\n",
       "  </thead>\n",
       "  <tbody>\n",
       "    <tr>\n",
       "      <th>0</th>\n",
       "      <td>Afghanistan</td>\n",
       "      <td>AFG</td>\n",
       "      <td>1990</td>\n",
       "      <td>65.486790</td>\n",
       "    </tr>\n",
       "    <tr>\n",
       "      <th>1</th>\n",
       "      <td>Afghanistan</td>\n",
       "      <td>AFG</td>\n",
       "      <td>1995</td>\n",
       "      <td>65.179510</td>\n",
       "    </tr>\n",
       "    <tr>\n",
       "      <th>2</th>\n",
       "      <td>Afghanistan</td>\n",
       "      <td>AFG</td>\n",
       "      <td>2000</td>\n",
       "      <td>64.922460</td>\n",
       "    </tr>\n",
       "    <tr>\n",
       "      <th>3</th>\n",
       "      <td>Afghanistan</td>\n",
       "      <td>AFG</td>\n",
       "      <td>2005</td>\n",
       "      <td>64.522680</td>\n",
       "    </tr>\n",
       "    <tr>\n",
       "      <th>4</th>\n",
       "      <td>Afghanistan</td>\n",
       "      <td>AFG</td>\n",
       "      <td>2010</td>\n",
       "      <td>65.245590</td>\n",
       "    </tr>\n",
       "    <tr>\n",
       "      <th>...</th>\n",
       "      <td>...</td>\n",
       "      <td>...</td>\n",
       "      <td>...</td>\n",
       "      <td>...</td>\n",
       "    </tr>\n",
       "    <tr>\n",
       "      <th>2491</th>\n",
       "      <td>Zimbabwe</td>\n",
       "      <td>ZWE</td>\n",
       "      <td>2013</td>\n",
       "      <td>23.111088</td>\n",
       "    </tr>\n",
       "    <tr>\n",
       "      <th>2492</th>\n",
       "      <td>Zimbabwe</td>\n",
       "      <td>ZWE</td>\n",
       "      <td>2014</td>\n",
       "      <td>22.805950</td>\n",
       "    </tr>\n",
       "    <tr>\n",
       "      <th>2493</th>\n",
       "      <td>Zimbabwe</td>\n",
       "      <td>ZWE</td>\n",
       "      <td>2015</td>\n",
       "      <td>21.733710</td>\n",
       "    </tr>\n",
       "    <tr>\n",
       "      <th>2494</th>\n",
       "      <td>Zimbabwe</td>\n",
       "      <td>ZWE</td>\n",
       "      <td>2016</td>\n",
       "      <td>21.726948</td>\n",
       "    </tr>\n",
       "    <tr>\n",
       "      <th>2495</th>\n",
       "      <td>Zimbabwe</td>\n",
       "      <td>ZWE</td>\n",
       "      <td>2017</td>\n",
       "      <td>22.251670</td>\n",
       "    </tr>\n",
       "  </tbody>\n",
       "</table>\n",
       "<p>2496 rows × 4 columns</p>\n",
       "</div>"
      ],
      "text/plain": [
       "           Entity Code  Year  \\\n",
       "0     Afghanistan  AFG  1990   \n",
       "1     Afghanistan  AFG  1995   \n",
       "2     Afghanistan  AFG  2000   \n",
       "3     Afghanistan  AFG  2005   \n",
       "4     Afghanistan  AFG  2010   \n",
       "...           ...  ...   ...   \n",
       "2491     Zimbabwe  ZWE  2013   \n",
       "2492     Zimbabwe  ZWE  2014   \n",
       "2493     Zimbabwe  ZWE  2015   \n",
       "2494     Zimbabwe  ZWE  2016   \n",
       "2495     Zimbabwe  ZWE  2017   \n",
       "\n",
       "      PM2.5 air pollution, mean annual exposure (micrograms per cubic meter)  \n",
       "0                                             65.486790                       \n",
       "1                                             65.179510                       \n",
       "2                                             64.922460                       \n",
       "3                                             64.522680                       \n",
       "4                                             65.245590                       \n",
       "...                                                 ...                       \n",
       "2491                                          23.111088                       \n",
       "2492                                          22.805950                       \n",
       "2493                                          21.733710                       \n",
       "2494                                          21.726948                       \n",
       "2495                                          22.251670                       \n",
       "\n",
       "[2496 rows x 4 columns]"
      ]
     },
     "execution_count": 87,
     "metadata": {},
     "output_type": "execute_result"
    }
   ],
   "source": [
    "airpoll_all"
   ]
  },
  {
   "cell_type": "markdown",
   "metadata": {},
   "source": [
    "Since data in 2019 is not present in this dataset, we can use 2017 data. "
   ]
  },
  {
   "cell_type": "code",
   "execution_count": 88,
   "metadata": {},
   "outputs": [],
   "source": [
    "#Retrieving PM2.5 air pollution mean annual exposure from dataset along with country name\n",
    "airpoll = airpoll_all[airpoll_all[\"Year\"]==2017]\n",
    "airpoll_df = airpoll[[\"Entity\",\"PM2.5 air pollution, mean annual exposure (micrograms per cubic meter)\"]].reset_index()\n",
    "airpoll_df = airpoll_df.rename(columns={\"Entity\":\"Country\",\"PM2.5 air pollution, mean annual exposure (micrograms per cubic meter)\":\"PM2.5 Mean Exposure\"})"
   ]
  },
  {
   "cell_type": "code",
   "execution_count": 89,
   "metadata": {},
   "outputs": [
    {
     "data": {
      "text/html": [
       "<div>\n",
       "<style scoped>\n",
       "    .dataframe tbody tr th:only-of-type {\n",
       "        vertical-align: middle;\n",
       "    }\n",
       "\n",
       "    .dataframe tbody tr th {\n",
       "        vertical-align: top;\n",
       "    }\n",
       "\n",
       "    .dataframe thead th {\n",
       "        text-align: right;\n",
       "    }\n",
       "</style>\n",
       "<table border=\"1\" class=\"dataframe\">\n",
       "  <thead>\n",
       "    <tr style=\"text-align: right;\">\n",
       "      <th></th>\n",
       "      <th>Entity</th>\n",
       "      <th>Code</th>\n",
       "      <th>Year</th>\n",
       "      <th>PM2.5 air pollution, mean annual exposure (micrograms per cubic meter)</th>\n",
       "    </tr>\n",
       "  </thead>\n",
       "  <tbody>\n",
       "    <tr>\n",
       "      <th>11</th>\n",
       "      <td>Afghanistan</td>\n",
       "      <td>AFG</td>\n",
       "      <td>2017</td>\n",
       "      <td>56.910810</td>\n",
       "    </tr>\n",
       "    <tr>\n",
       "      <th>23</th>\n",
       "      <td>Albania</td>\n",
       "      <td>ALB</td>\n",
       "      <td>2017</td>\n",
       "      <td>18.200602</td>\n",
       "    </tr>\n",
       "    <tr>\n",
       "      <th>35</th>\n",
       "      <td>Algeria</td>\n",
       "      <td>DZA</td>\n",
       "      <td>2017</td>\n",
       "      <td>38.884010</td>\n",
       "    </tr>\n",
       "    <tr>\n",
       "      <th>47</th>\n",
       "      <td>American Samoa</td>\n",
       "      <td>ASM</td>\n",
       "      <td>2017</td>\n",
       "      <td>12.473821</td>\n",
       "    </tr>\n",
       "    <tr>\n",
       "      <th>59</th>\n",
       "      <td>Andorra</td>\n",
       "      <td>AND</td>\n",
       "      <td>2017</td>\n",
       "      <td>10.307621</td>\n",
       "    </tr>\n",
       "    <tr>\n",
       "      <th>...</th>\n",
       "      <td>...</td>\n",
       "      <td>...</td>\n",
       "      <td>...</td>\n",
       "      <td>...</td>\n",
       "    </tr>\n",
       "    <tr>\n",
       "      <th>2447</th>\n",
       "      <td>West Bank and Gaza</td>\n",
       "      <td>NaN</td>\n",
       "      <td>2017</td>\n",
       "      <td>33.225630</td>\n",
       "    </tr>\n",
       "    <tr>\n",
       "      <th>2459</th>\n",
       "      <td>World</td>\n",
       "      <td>OWID_WRL</td>\n",
       "      <td>2017</td>\n",
       "      <td>45.673336</td>\n",
       "    </tr>\n",
       "    <tr>\n",
       "      <th>2471</th>\n",
       "      <td>Yemen</td>\n",
       "      <td>YEM</td>\n",
       "      <td>2017</td>\n",
       "      <td>50.456005</td>\n",
       "    </tr>\n",
       "    <tr>\n",
       "      <th>2483</th>\n",
       "      <td>Zambia</td>\n",
       "      <td>ZMB</td>\n",
       "      <td>2017</td>\n",
       "      <td>27.438034</td>\n",
       "    </tr>\n",
       "    <tr>\n",
       "      <th>2495</th>\n",
       "      <td>Zimbabwe</td>\n",
       "      <td>ZWE</td>\n",
       "      <td>2017</td>\n",
       "      <td>22.251670</td>\n",
       "    </tr>\n",
       "  </tbody>\n",
       "</table>\n",
       "<p>208 rows × 4 columns</p>\n",
       "</div>"
      ],
      "text/plain": [
       "                  Entity      Code  Year  \\\n",
       "11           Afghanistan       AFG  2017   \n",
       "23               Albania       ALB  2017   \n",
       "35               Algeria       DZA  2017   \n",
       "47        American Samoa       ASM  2017   \n",
       "59               Andorra       AND  2017   \n",
       "...                  ...       ...   ...   \n",
       "2447  West Bank and Gaza       NaN  2017   \n",
       "2459               World  OWID_WRL  2017   \n",
       "2471               Yemen       YEM  2017   \n",
       "2483              Zambia       ZMB  2017   \n",
       "2495            Zimbabwe       ZWE  2017   \n",
       "\n",
       "      PM2.5 air pollution, mean annual exposure (micrograms per cubic meter)  \n",
       "11                                            56.910810                       \n",
       "23                                            18.200602                       \n",
       "35                                            38.884010                       \n",
       "47                                            12.473821                       \n",
       "59                                            10.307621                       \n",
       "...                                                 ...                       \n",
       "2447                                          33.225630                       \n",
       "2459                                          45.673336                       \n",
       "2471                                          50.456005                       \n",
       "2483                                          27.438034                       \n",
       "2495                                          22.251670                       \n",
       "\n",
       "[208 rows x 4 columns]"
      ]
     },
     "execution_count": 89,
     "metadata": {},
     "output_type": "execute_result"
    }
   ],
   "source": [
    "airpoll"
   ]
  },
  {
   "cell_type": "code",
   "execution_count": 90,
   "metadata": {},
   "outputs": [
    {
     "data": {
      "text/html": [
       "<div>\n",
       "<style scoped>\n",
       "    .dataframe tbody tr th:only-of-type {\n",
       "        vertical-align: middle;\n",
       "    }\n",
       "\n",
       "    .dataframe tbody tr th {\n",
       "        vertical-align: top;\n",
       "    }\n",
       "\n",
       "    .dataframe thead th {\n",
       "        text-align: right;\n",
       "    }\n",
       "</style>\n",
       "<table border=\"1\" class=\"dataframe\">\n",
       "  <thead>\n",
       "    <tr style=\"text-align: right;\">\n",
       "      <th></th>\n",
       "      <th>index</th>\n",
       "      <th>Country</th>\n",
       "      <th>PM2.5 Mean Exposure</th>\n",
       "    </tr>\n",
       "  </thead>\n",
       "  <tbody>\n",
       "    <tr>\n",
       "      <th>0</th>\n",
       "      <td>11</td>\n",
       "      <td>Afghanistan</td>\n",
       "      <td>56.910810</td>\n",
       "    </tr>\n",
       "    <tr>\n",
       "      <th>1</th>\n",
       "      <td>23</td>\n",
       "      <td>Albania</td>\n",
       "      <td>18.200602</td>\n",
       "    </tr>\n",
       "    <tr>\n",
       "      <th>2</th>\n",
       "      <td>35</td>\n",
       "      <td>Algeria</td>\n",
       "      <td>38.884010</td>\n",
       "    </tr>\n",
       "    <tr>\n",
       "      <th>3</th>\n",
       "      <td>47</td>\n",
       "      <td>American Samoa</td>\n",
       "      <td>12.473821</td>\n",
       "    </tr>\n",
       "    <tr>\n",
       "      <th>4</th>\n",
       "      <td>59</td>\n",
       "      <td>Andorra</td>\n",
       "      <td>10.307621</td>\n",
       "    </tr>\n",
       "  </tbody>\n",
       "</table>\n",
       "</div>"
      ],
      "text/plain": [
       "   index         Country  PM2.5 Mean Exposure\n",
       "0     11     Afghanistan            56.910810\n",
       "1     23         Albania            18.200602\n",
       "2     35         Algeria            38.884010\n",
       "3     47  American Samoa            12.473821\n",
       "4     59         Andorra            10.307621"
      ]
     },
     "execution_count": 90,
     "metadata": {},
     "output_type": "execute_result"
    }
   ],
   "source": [
    "airpoll_df.head()"
   ]
  },
  {
   "cell_type": "code",
   "execution_count": 91,
   "metadata": {},
   "outputs": [],
   "source": [
    "#Merging the main dataframe (df) and air pollution data\n",
    "df = pd.merge(df,airpoll_df,on=\"Country\")\n",
    "df = df.drop([\"index\"], axis=1) #Dont need index column anymore"
   ]
  },
  {
   "cell_type": "markdown",
   "metadata": {},
   "source": [
    "### Retrieving Country Crime Index"
   ]
  },
  {
   "cell_type": "markdown",
   "metadata": {},
   "source": [
    "Country crime index was retrieved from *Numbeo* [7]. "
   ]
  },
  {
   "cell_type": "code",
   "execution_count": 92,
   "metadata": {},
   "outputs": [],
   "source": [
    "#Loading dataset\n",
    "crime_all = pd.read_excel('/Users/guptaj/Documents/Personal Projects/HDPrevModel/Crime_Country.xlsx')"
   ]
  },
  {
   "cell_type": "code",
   "execution_count": 93,
   "metadata": {},
   "outputs": [
    {
     "data": {
      "text/html": [
       "<div>\n",
       "<style scoped>\n",
       "    .dataframe tbody tr th:only-of-type {\n",
       "        vertical-align: middle;\n",
       "    }\n",
       "\n",
       "    .dataframe tbody tr th {\n",
       "        vertical-align: top;\n",
       "    }\n",
       "\n",
       "    .dataframe thead th {\n",
       "        text-align: right;\n",
       "    }\n",
       "</style>\n",
       "<table border=\"1\" class=\"dataframe\">\n",
       "  <thead>\n",
       "    <tr style=\"text-align: right;\">\n",
       "      <th></th>\n",
       "      <th>Country</th>\n",
       "      <th>Crime Index</th>\n",
       "      <th>Safety index</th>\n",
       "    </tr>\n",
       "  </thead>\n",
       "  <tbody>\n",
       "    <tr>\n",
       "      <th>0</th>\n",
       "      <td>Venezuela</td>\n",
       "      <td>84.2</td>\n",
       "      <td>15.8</td>\n",
       "    </tr>\n",
       "    <tr>\n",
       "      <th>1</th>\n",
       "      <td>Papua New Guinea</td>\n",
       "      <td>80.2</td>\n",
       "      <td>19.8</td>\n",
       "    </tr>\n",
       "    <tr>\n",
       "      <th>2</th>\n",
       "      <td>South Africa</td>\n",
       "      <td>77.1</td>\n",
       "      <td>22.9</td>\n",
       "    </tr>\n",
       "    <tr>\n",
       "      <th>3</th>\n",
       "      <td>Afghanistan</td>\n",
       "      <td>76.4</td>\n",
       "      <td>23.6</td>\n",
       "    </tr>\n",
       "    <tr>\n",
       "      <th>4</th>\n",
       "      <td>Honduras</td>\n",
       "      <td>74.8</td>\n",
       "      <td>25.2</td>\n",
       "    </tr>\n",
       "  </tbody>\n",
       "</table>\n",
       "</div>"
      ],
      "text/plain": [
       "            Country  Crime Index  Safety index\n",
       "0         Venezuela         84.2          15.8\n",
       "1  Papua New Guinea         80.2          19.8\n",
       "2      South Africa         77.1          22.9\n",
       "3       Afghanistan         76.4          23.6\n",
       "4          Honduras         74.8          25.2"
      ]
     },
     "execution_count": 93,
     "metadata": {},
     "output_type": "execute_result"
    }
   ],
   "source": [
    "crime_all.head()"
   ]
  },
  {
   "cell_type": "code",
   "execution_count": 94,
   "metadata": {},
   "outputs": [],
   "source": [
    "#Retriving only country name and crime index\n",
    "crime_df = crime_all[[\"Country\",\"Crime Index\"]]"
   ]
  },
  {
   "cell_type": "code",
   "execution_count": 95,
   "metadata": {},
   "outputs": [
    {
     "data": {
      "text/html": [
       "<div>\n",
       "<style scoped>\n",
       "    .dataframe tbody tr th:only-of-type {\n",
       "        vertical-align: middle;\n",
       "    }\n",
       "\n",
       "    .dataframe tbody tr th {\n",
       "        vertical-align: top;\n",
       "    }\n",
       "\n",
       "    .dataframe thead th {\n",
       "        text-align: right;\n",
       "    }\n",
       "</style>\n",
       "<table border=\"1\" class=\"dataframe\">\n",
       "  <thead>\n",
       "    <tr style=\"text-align: right;\">\n",
       "      <th></th>\n",
       "      <th>Country</th>\n",
       "      <th>Crime Index</th>\n",
       "    </tr>\n",
       "  </thead>\n",
       "  <tbody>\n",
       "    <tr>\n",
       "      <th>0</th>\n",
       "      <td>Venezuela</td>\n",
       "      <td>84.2</td>\n",
       "    </tr>\n",
       "    <tr>\n",
       "      <th>1</th>\n",
       "      <td>Papua New Guinea</td>\n",
       "      <td>80.2</td>\n",
       "    </tr>\n",
       "    <tr>\n",
       "      <th>2</th>\n",
       "      <td>South Africa</td>\n",
       "      <td>77.1</td>\n",
       "    </tr>\n",
       "    <tr>\n",
       "      <th>3</th>\n",
       "      <td>Afghanistan</td>\n",
       "      <td>76.4</td>\n",
       "    </tr>\n",
       "    <tr>\n",
       "      <th>4</th>\n",
       "      <td>Honduras</td>\n",
       "      <td>74.8</td>\n",
       "    </tr>\n",
       "  </tbody>\n",
       "</table>\n",
       "</div>"
      ],
      "text/plain": [
       "            Country  Crime Index\n",
       "0         Venezuela         84.2\n",
       "1  Papua New Guinea         80.2\n",
       "2      South Africa         77.1\n",
       "3       Afghanistan         76.4\n",
       "4          Honduras         74.8"
      ]
     },
     "execution_count": 95,
     "metadata": {},
     "output_type": "execute_result"
    }
   ],
   "source": [
    "crime_df.head()"
   ]
  },
  {
   "cell_type": "code",
   "execution_count": 96,
   "metadata": {},
   "outputs": [],
   "source": [
    "#Merging the main dataframe (df) and crime index data\n",
    "df = pd.merge(df,crime_df,on=\"Country\")"
   ]
  },
  {
   "cell_type": "markdown",
   "metadata": {},
   "source": [
    "## Data Cleaning"
   ]
  },
  {
   "cell_type": "markdown",
   "metadata": {},
   "source": [
    "Next, we embark ensuring our data is clean. "
   ]
  },
  {
   "cell_type": "code",
   "execution_count": 97,
   "metadata": {},
   "outputs": [
    {
     "data": {
      "text/html": [
       "<div>\n",
       "<style scoped>\n",
       "    .dataframe tbody tr th:only-of-type {\n",
       "        vertical-align: middle;\n",
       "    }\n",
       "\n",
       "    .dataframe tbody tr th {\n",
       "        vertical-align: top;\n",
       "    }\n",
       "\n",
       "    .dataframe thead th {\n",
       "        text-align: right;\n",
       "    }\n",
       "</style>\n",
       "<table border=\"1\" class=\"dataframe\">\n",
       "  <thead>\n",
       "    <tr style=\"text-align: right;\">\n",
       "      <th></th>\n",
       "      <th>Country</th>\n",
       "      <th>CVD Prev</th>\n",
       "      <th>GDP</th>\n",
       "      <th>Region</th>\n",
       "      <th>Cost of Healthy Diet</th>\n",
       "      <th>PM2.5 Mean Exposure</th>\n",
       "      <th>Crime Index</th>\n",
       "    </tr>\n",
       "  </thead>\n",
       "  <tbody>\n",
       "    <tr>\n",
       "      <th>0</th>\n",
       "      <td>Indonesia</td>\n",
       "      <td>0.053118</td>\n",
       "      <td>1.119100e+12</td>\n",
       "      <td>East Asia &amp; Pacific</td>\n",
       "      <td>4.268</td>\n",
       "      <td>16.502653</td>\n",
       "      <td>46.2</td>\n",
       "    </tr>\n",
       "    <tr>\n",
       "      <th>1</th>\n",
       "      <td>Thailand</td>\n",
       "      <td>0.076507</td>\n",
       "      <td>5.439767e+11</td>\n",
       "      <td>East Asia &amp; Pacific</td>\n",
       "      <td>4.181</td>\n",
       "      <td>26.256727</td>\n",
       "      <td>39.4</td>\n",
       "    </tr>\n",
       "    <tr>\n",
       "      <th>2</th>\n",
       "      <td>Fiji</td>\n",
       "      <td>0.061513</td>\n",
       "      <td>5.481693e+09</td>\n",
       "      <td>East Asia &amp; Pacific</td>\n",
       "      <td>3.858</td>\n",
       "      <td>10.840160</td>\n",
       "      <td>57.9</td>\n",
       "    </tr>\n",
       "    <tr>\n",
       "      <th>3</th>\n",
       "      <td>Cambodia</td>\n",
       "      <td>0.041011</td>\n",
       "      <td>2.708939e+10</td>\n",
       "      <td>East Asia &amp; Pacific</td>\n",
       "      <td>3.778</td>\n",
       "      <td>25.614292</td>\n",
       "      <td>51.2</td>\n",
       "    </tr>\n",
       "    <tr>\n",
       "      <th>4</th>\n",
       "      <td>Azerbaijan</td>\n",
       "      <td>0.074423</td>\n",
       "      <td>4.817424e+10</td>\n",
       "      <td>Europe &amp; Central Asia</td>\n",
       "      <td>2.459</td>\n",
       "      <td>19.928663</td>\n",
       "      <td>31.7</td>\n",
       "    </tr>\n",
       "  </tbody>\n",
       "</table>\n",
       "</div>"
      ],
      "text/plain": [
       "      Country  CVD Prev           GDP                 Region  \\\n",
       "0   Indonesia  0.053118  1.119100e+12    East Asia & Pacific   \n",
       "1    Thailand  0.076507  5.439767e+11    East Asia & Pacific   \n",
       "2        Fiji  0.061513  5.481693e+09    East Asia & Pacific   \n",
       "3    Cambodia  0.041011  2.708939e+10    East Asia & Pacific   \n",
       "4  Azerbaijan  0.074423  4.817424e+10  Europe & Central Asia   \n",
       "\n",
       "   Cost of Healthy Diet  PM2.5 Mean Exposure  Crime Index  \n",
       "0                 4.268            16.502653         46.2  \n",
       "1                 4.181            26.256727         39.4  \n",
       "2                 3.858            10.840160         57.9  \n",
       "3                 3.778            25.614292         51.2  \n",
       "4                 2.459            19.928663         31.7  "
      ]
     },
     "execution_count": 97,
     "metadata": {},
     "output_type": "execute_result"
    }
   ],
   "source": [
    "df.head()"
   ]
  },
  {
   "cell_type": "code",
   "execution_count": 98,
   "metadata": {},
   "outputs": [
    {
     "data": {
      "text/plain": [
       "Country                 False\n",
       "CVD Prev                False\n",
       "GDP                     False\n",
       "Region                  False\n",
       "Cost of Healthy Diet     True\n",
       "PM2.5 Mean Exposure     False\n",
       "Crime Index             False\n",
       "dtype: bool"
      ]
     },
     "execution_count": 98,
     "metadata": {},
     "output_type": "execute_result"
    }
   ],
   "source": [
    "#Checking for any missing data\n",
    "df.isna().any()"
   ]
  },
  {
   "cell_type": "code",
   "execution_count": 99,
   "metadata": {},
   "outputs": [
    {
     "name": "stdout",
     "output_type": "stream",
     "text": [
      "[40, 92]\n"
     ]
    }
   ],
   "source": [
    "#Getting indices of missing data\n",
    "missingi = df[df[\"Cost of Healthy Diet\"].isnull()].index.tolist()\n",
    "print(missingi)"
   ]
  },
  {
   "cell_type": "code",
   "execution_count": 100,
   "metadata": {},
   "outputs": [],
   "source": [
    "#Dropping indices with missing data\n",
    "df = df.drop(missingi, axis=0).reset_index()\n",
    "df = df.drop([\"index\"], axis=1) #Dont need index column anymore"
   ]
  },
  {
   "cell_type": "code",
   "execution_count": 101,
   "metadata": {},
   "outputs": [
    {
     "data": {
      "text/plain": [
       "South Asia                     6\n",
       "North America                  1\n",
       "East Asia & Pacific           12\n",
       "Sub-Saharan Africa            12\n",
       "Middle East & North Africa    13\n",
       "Europe & Central Asia         34\n",
       "Latin America & Caribbean     16\n",
       "Name: Region, dtype: int64"
      ]
     },
     "execution_count": 101,
     "metadata": {},
     "output_type": "execute_result"
    }
   ],
   "source": [
    "Regionfreq = df[\"Region\"].value_counts(sort=False)\n",
    "Regionfreq"
   ]
  },
  {
   "cell_type": "code",
   "execution_count": 102,
   "metadata": {},
   "outputs": [
    {
     "data": {
      "image/png": "[encoded data removed]",
      "text/plain": [
       "<Figure size 720x720 with 6 Axes>"
      ]
     },
     "metadata": {},
     "output_type": "display_data"
    }
   ],
   "source": [
    "#Viewing Distributions of Data\n",
    "sns.set(style=\"whitegrid\")  \n",
    "fig,axs = plt.subplots(3,2, figsize = (10,10))\n",
    "CVDplt = sns.histplot(data=df, x=\"CVD Prev\", kde=True, color=\"teal\", ax=axs[0, 0])\n",
    "GDPplt = sns.histplot(data=df, x=\"GDP\", kde=True, color=\"olive\", ax=axs[0, 1])\n",
    "Costplot = sns.histplot(data=df, x=\"Cost of Healthy Diet\", kde=True, color=\"gold\", ax=axs[1, 0])\n",
    "Airplt = sns.histplot(data=df, x=\"PM2.5 Mean Exposure\", kde=True, color=\"mediumblue\", ax=axs[1, 1])\n",
    "Crimeplt = sns.histplot(data=df, x=\"Crime Index\", kde=True, color=\"forestgreen\", ax=axs[2, 0])\n",
    "Regionplt = df[\"Region\"].value_counts(sort=False).plot.bar(y=\"Region Frequency\",color='salmon', ax=axs[2,1])\n",
    "Regionplt.set_ylabel(\"Count\")\n",
    "fig.tight_layout()"
   ]
  },
  {
   "cell_type": "code",
   "execution_count": 103,
   "metadata": {},
   "outputs": [],
   "source": [
    "#Standardizing Data\n",
    "from sklearn import preprocessing\n",
    "min_max_scaler = preprocessing.MinMaxScaler()\n",
    "df_num = df[[\"CVD Prev\", \"GDP\", \"Cost of Healthy Diet\", \"PM2.5 Mean Exposure\", \"Crime Index\"]]\n",
    "df_cat = df[[\"Country\",\"Region\"]]\n",
    "x = df_num.values\n",
    "x_scal = min_max_scaler.fit_transform(x)\n",
    "df_numscal = pd.DataFrame(x_scal)\n",
    "df_numscal = df_numscal.rename(columns={0:\"CVD Prev\",1:\"GDP\",2:\"Cost of Healthy Diet\",3:\"PM2.5 Mean Exposure\",4:\"Crime Index\"})\n",
    "df_scal = pd.concat([df_cat,df_numscal], axis=1)"
   ]
  },
  {
   "cell_type": "code",
   "execution_count": 104,
   "metadata": {},
   "outputs": [
    {
     "data": {
      "image/png": "[encoded data removed]",
      "text/plain": [
       "<Figure size 432x288 with 2 Axes>"
      ]
     },
     "metadata": {},
     "output_type": "display_data"
    }
   ],
   "source": [
    "#Getting Correlation Coefficients\n",
    "corr_matrix = df_scal.corr()\n",
    "sns.heatmap(corr_matrix, annot=True)\n",
    "plt.show()"
   ]
  },
  {
   "cell_type": "markdown",
   "metadata": {},
   "source": [
    "We can see from the correlation matrix that there are no high degrees of correlation amongst any of the variables. "
   ]
  },
  {
   "cell_type": "markdown",
   "metadata": {},
   "source": [
    "Since the region data is categorical, we can apply One Hot Encoding to transform the data to numerical for use in our regression problem. "
   ]
  },
  {
   "cell_type": "code",
   "execution_count": 105,
   "metadata": {},
   "outputs": [
    {
     "name": "stdout",
     "output_type": "stream",
     "text": [
      "['East Asia & Pacific' 'Europe & Central Asia' 'South Asia'\n",
      " 'Middle East & North Africa' 'Latin America & Caribbean' 'North America'\n",
      " 'Sub-Saharan Africa']\n"
     ]
    }
   ],
   "source": [
    "#Finding Unique values in this column\n",
    "cat_feat = df[[\"Region\"]]\n",
    "print(pd.unique(cat_feat[\"Region\"]))"
   ]
  },
  {
   "cell_type": "code",
   "execution_count": 106,
   "metadata": {},
   "outputs": [],
   "source": [
    "#One Hot Encoding for Region Data\n",
    "from sklearn.preprocessing import OneHotEncoder\n",
    "ohe = OneHotEncoder(sparse=False)\n",
    "cat_feat_encoded = ohe.fit_transform(cat_feat)\n",
    "cat_feat_encoded_df = pd.DataFrame(cat_feat_encoded, columns=ohe.categories_)"
   ]
  },
  {
   "cell_type": "code",
   "execution_count": 107,
   "metadata": {},
   "outputs": [
    {
     "data": {
      "text/html": [
       "<div>\n",
       "<style scoped>\n",
       "    .dataframe tbody tr th:only-of-type {\n",
       "        vertical-align: middle;\n",
       "    }\n",
       "\n",
       "    .dataframe tbody tr th {\n",
       "        vertical-align: top;\n",
       "    }\n",
       "\n",
       "    .dataframe thead tr th {\n",
       "        text-align: left;\n",
       "    }\n",
       "</style>\n",
       "<table border=\"1\" class=\"dataframe\">\n",
       "  <thead>\n",
       "    <tr>\n",
       "      <th></th>\n",
       "      <th>East Asia &amp; Pacific</th>\n",
       "      <th>Europe &amp; Central Asia</th>\n",
       "      <th>Latin America &amp; Caribbean</th>\n",
       "      <th>Middle East &amp; North Africa</th>\n",
       "      <th>North America</th>\n",
       "      <th>South Asia</th>\n",
       "      <th>Sub-Saharan Africa</th>\n",
       "    </tr>\n",
       "  </thead>\n",
       "  <tbody>\n",
       "    <tr>\n",
       "      <th>0</th>\n",
       "      <td>1.0</td>\n",
       "      <td>0.0</td>\n",
       "      <td>0.0</td>\n",
       "      <td>0.0</td>\n",
       "      <td>0.0</td>\n",
       "      <td>0.0</td>\n",
       "      <td>0.0</td>\n",
       "    </tr>\n",
       "    <tr>\n",
       "      <th>1</th>\n",
       "      <td>1.0</td>\n",
       "      <td>0.0</td>\n",
       "      <td>0.0</td>\n",
       "      <td>0.0</td>\n",
       "      <td>0.0</td>\n",
       "      <td>0.0</td>\n",
       "      <td>0.0</td>\n",
       "    </tr>\n",
       "    <tr>\n",
       "      <th>2</th>\n",
       "      <td>1.0</td>\n",
       "      <td>0.0</td>\n",
       "      <td>0.0</td>\n",
       "      <td>0.0</td>\n",
       "      <td>0.0</td>\n",
       "      <td>0.0</td>\n",
       "      <td>0.0</td>\n",
       "    </tr>\n",
       "    <tr>\n",
       "      <th>3</th>\n",
       "      <td>1.0</td>\n",
       "      <td>0.0</td>\n",
       "      <td>0.0</td>\n",
       "      <td>0.0</td>\n",
       "      <td>0.0</td>\n",
       "      <td>0.0</td>\n",
       "      <td>0.0</td>\n",
       "    </tr>\n",
       "    <tr>\n",
       "      <th>4</th>\n",
       "      <td>0.0</td>\n",
       "      <td>1.0</td>\n",
       "      <td>0.0</td>\n",
       "      <td>0.0</td>\n",
       "      <td>0.0</td>\n",
       "      <td>0.0</td>\n",
       "      <td>0.0</td>\n",
       "    </tr>\n",
       "    <tr>\n",
       "      <th>...</th>\n",
       "      <td>...</td>\n",
       "      <td>...</td>\n",
       "      <td>...</td>\n",
       "      <td>...</td>\n",
       "      <td>...</td>\n",
       "      <td>...</td>\n",
       "      <td>...</td>\n",
       "    </tr>\n",
       "    <tr>\n",
       "      <th>89</th>\n",
       "      <td>0.0</td>\n",
       "      <td>0.0</td>\n",
       "      <td>0.0</td>\n",
       "      <td>0.0</td>\n",
       "      <td>0.0</td>\n",
       "      <td>0.0</td>\n",
       "      <td>1.0</td>\n",
       "    </tr>\n",
       "    <tr>\n",
       "      <th>90</th>\n",
       "      <td>0.0</td>\n",
       "      <td>0.0</td>\n",
       "      <td>0.0</td>\n",
       "      <td>0.0</td>\n",
       "      <td>0.0</td>\n",
       "      <td>0.0</td>\n",
       "      <td>1.0</td>\n",
       "    </tr>\n",
       "    <tr>\n",
       "      <th>91</th>\n",
       "      <td>0.0</td>\n",
       "      <td>0.0</td>\n",
       "      <td>0.0</td>\n",
       "      <td>0.0</td>\n",
       "      <td>0.0</td>\n",
       "      <td>0.0</td>\n",
       "      <td>1.0</td>\n",
       "    </tr>\n",
       "    <tr>\n",
       "      <th>92</th>\n",
       "      <td>0.0</td>\n",
       "      <td>0.0</td>\n",
       "      <td>0.0</td>\n",
       "      <td>0.0</td>\n",
       "      <td>0.0</td>\n",
       "      <td>0.0</td>\n",
       "      <td>1.0</td>\n",
       "    </tr>\n",
       "    <tr>\n",
       "      <th>93</th>\n",
       "      <td>0.0</td>\n",
       "      <td>0.0</td>\n",
       "      <td>0.0</td>\n",
       "      <td>0.0</td>\n",
       "      <td>0.0</td>\n",
       "      <td>0.0</td>\n",
       "      <td>1.0</td>\n",
       "    </tr>\n",
       "  </tbody>\n",
       "</table>\n",
       "<p>94 rows × 7 columns</p>\n",
       "</div>"
      ],
      "text/plain": [
       "   East Asia & Pacific Europe & Central Asia Latin America & Caribbean  \\\n",
       "0                  1.0                   0.0                       0.0   \n",
       "1                  1.0                   0.0                       0.0   \n",
       "2                  1.0                   0.0                       0.0   \n",
       "3                  1.0                   0.0                       0.0   \n",
       "4                  0.0                   1.0                       0.0   \n",
       "..                 ...                   ...                       ...   \n",
       "89                 0.0                   0.0                       0.0   \n",
       "90                 0.0                   0.0                       0.0   \n",
       "91                 0.0                   0.0                       0.0   \n",
       "92                 0.0                   0.0                       0.0   \n",
       "93                 0.0                   0.0                       0.0   \n",
       "\n",
       "   Middle East & North Africa North America South Asia Sub-Saharan Africa  \n",
       "0                         0.0           0.0        0.0                0.0  \n",
       "1                         0.0           0.0        0.0                0.0  \n",
       "2                         0.0           0.0        0.0                0.0  \n",
       "3                         0.0           0.0        0.0                0.0  \n",
       "4                         0.0           0.0        0.0                0.0  \n",
       "..                        ...           ...        ...                ...  \n",
       "89                        0.0           0.0        0.0                1.0  \n",
       "90                        0.0           0.0        0.0                1.0  \n",
       "91                        0.0           0.0        0.0                1.0  \n",
       "92                        0.0           0.0        0.0                1.0  \n",
       "93                        0.0           0.0        0.0                1.0  \n",
       "\n",
       "[94 rows x 7 columns]"
      ]
     },
     "execution_count": 107,
     "metadata": {},
     "output_type": "execute_result"
    }
   ],
   "source": [
    "cat_feat_encoded_df"
   ]
  },
  {
   "cell_type": "code",
   "execution_count": 108,
   "metadata": {},
   "outputs": [
    {
     "data": {
      "text/html": [
       "<div>\n",
       "<style scoped>\n",
       "    .dataframe tbody tr th:only-of-type {\n",
       "        vertical-align: middle;\n",
       "    }\n",
       "\n",
       "    .dataframe tbody tr th {\n",
       "        vertical-align: top;\n",
       "    }\n",
       "\n",
       "    .dataframe thead th {\n",
       "        text-align: right;\n",
       "    }\n",
       "</style>\n",
       "<table border=\"1\" class=\"dataframe\">\n",
       "  <thead>\n",
       "    <tr style=\"text-align: right;\">\n",
       "      <th></th>\n",
       "      <th>(East Asia &amp; Pacific,)</th>\n",
       "      <th>(Europe &amp; Central Asia,)</th>\n",
       "      <th>(Latin America &amp; Caribbean,)</th>\n",
       "      <th>(Middle East &amp; North Africa,)</th>\n",
       "      <th>(North America,)</th>\n",
       "      <th>(South Asia,)</th>\n",
       "      <th>(Sub-Saharan Africa,)</th>\n",
       "      <th>CVD Prev</th>\n",
       "      <th>GDP</th>\n",
       "      <th>Cost of Healthy Diet</th>\n",
       "      <th>PM2.5 Mean Exposure</th>\n",
       "      <th>Crime Index</th>\n",
       "    </tr>\n",
       "  </thead>\n",
       "  <tbody>\n",
       "    <tr>\n",
       "      <th>0</th>\n",
       "      <td>1.0</td>\n",
       "      <td>0.0</td>\n",
       "      <td>0.0</td>\n",
       "      <td>0.0</td>\n",
       "      <td>0.0</td>\n",
       "      <td>0.0</td>\n",
       "      <td>0.0</td>\n",
       "      <td>0.146779</td>\n",
       "      <td>0.218291</td>\n",
       "      <td>0.480741</td>\n",
       "      <td>0.113359</td>\n",
       "      <td>0.523148</td>\n",
       "    </tr>\n",
       "    <tr>\n",
       "      <th>1</th>\n",
       "      <td>1.0</td>\n",
       "      <td>0.0</td>\n",
       "      <td>0.0</td>\n",
       "      <td>0.0</td>\n",
       "      <td>0.0</td>\n",
       "      <td>0.0</td>\n",
       "      <td>0.0</td>\n",
       "      <td>0.324865</td>\n",
       "      <td>0.105865</td>\n",
       "      <td>0.459532</td>\n",
       "      <td>0.217266</td>\n",
       "      <td>0.418210</td>\n",
       "    </tr>\n",
       "    <tr>\n",
       "      <th>2</th>\n",
       "      <td>1.0</td>\n",
       "      <td>0.0</td>\n",
       "      <td>0.0</td>\n",
       "      <td>0.0</td>\n",
       "      <td>0.0</td>\n",
       "      <td>0.0</td>\n",
       "      <td>0.0</td>\n",
       "      <td>0.210699</td>\n",
       "      <td>0.000599</td>\n",
       "      <td>0.380790</td>\n",
       "      <td>0.053038</td>\n",
       "      <td>0.703704</td>\n",
       "    </tr>\n",
       "    <tr>\n",
       "      <th>3</th>\n",
       "      <td>1.0</td>\n",
       "      <td>0.0</td>\n",
       "      <td>0.0</td>\n",
       "      <td>0.0</td>\n",
       "      <td>0.0</td>\n",
       "      <td>0.0</td>\n",
       "      <td>0.0</td>\n",
       "      <td>0.054597</td>\n",
       "      <td>0.004823</td>\n",
       "      <td>0.361287</td>\n",
       "      <td>0.210422</td>\n",
       "      <td>0.600309</td>\n",
       "    </tr>\n",
       "    <tr>\n",
       "      <th>4</th>\n",
       "      <td>0.0</td>\n",
       "      <td>1.0</td>\n",
       "      <td>0.0</td>\n",
       "      <td>0.0</td>\n",
       "      <td>0.0</td>\n",
       "      <td>0.0</td>\n",
       "      <td>0.0</td>\n",
       "      <td>0.308996</td>\n",
       "      <td>0.008945</td>\n",
       "      <td>0.039737</td>\n",
       "      <td>0.149855</td>\n",
       "      <td>0.299383</td>\n",
       "    </tr>\n",
       "  </tbody>\n",
       "</table>\n",
       "</div>"
      ],
      "text/plain": [
       "   (East Asia & Pacific,)  (Europe & Central Asia,)  \\\n",
       "0                     1.0                       0.0   \n",
       "1                     1.0                       0.0   \n",
       "2                     1.0                       0.0   \n",
       "3                     1.0                       0.0   \n",
       "4                     0.0                       1.0   \n",
       "\n",
       "   (Latin America & Caribbean,)  (Middle East & North Africa,)  \\\n",
       "0                           0.0                            0.0   \n",
       "1                           0.0                            0.0   \n",
       "2                           0.0                            0.0   \n",
       "3                           0.0                            0.0   \n",
       "4                           0.0                            0.0   \n",
       "\n",
       "   (North America,)  (South Asia,)  (Sub-Saharan Africa,)  CVD Prev       GDP  \\\n",
       "0               0.0            0.0                    0.0  0.146779  0.218291   \n",
       "1               0.0            0.0                    0.0  0.324865  0.105865   \n",
       "2               0.0            0.0                    0.0  0.210699  0.000599   \n",
       "3               0.0            0.0                    0.0  0.054597  0.004823   \n",
       "4               0.0            0.0                    0.0  0.308996  0.008945   \n",
       "\n",
       "   Cost of Healthy Diet  PM2.5 Mean Exposure  Crime Index  \n",
       "0              0.480741             0.113359     0.523148  \n",
       "1              0.459532             0.217266     0.418210  \n",
       "2              0.380790             0.053038     0.703704  \n",
       "3              0.361287             0.210422     0.600309  \n",
       "4              0.039737             0.149855     0.299383  "
      ]
     },
     "execution_count": 108,
     "metadata": {},
     "output_type": "execute_result"
    }
   ],
   "source": [
    "#Generating the final dataframe \n",
    "final_df = pd.concat([cat_feat_encoded_df,df_scal], axis=1)\n",
    "final_df = final_df.drop([\"Region\",\"Country\",], axis=1)\n",
    "final_df.head()"
   ]
  },
  {
   "cell_type": "markdown",
   "metadata": {},
   "source": [
    "## Multivariate Linear Regression"
   ]
  },
  {
   "cell_type": "markdown",
   "metadata": {},
   "source": [
    "Now we build a multivariate linear regression model and evaluate it. "
   ]
  },
  {
   "cell_type": "code",
   "execution_count": 109,
   "metadata": {},
   "outputs": [],
   "source": [
    "#Imports\n",
    "from sklearn.model_selection import train_test_split\n",
    "from sklearn.linear_model import LinearRegression\n",
    "from sklearn import metrics"
   ]
  },
  {
   "cell_type": "code",
   "execution_count": 110,
   "metadata": {},
   "outputs": [
    {
     "name": "stderr",
     "output_type": "stream",
     "text": [
      "C:\\Users\\guptaj\\anaconda3\\lib\\site-packages\\sklearn\\utils\\validation.py:1692: FutureWarning: Feature names only support names that are all strings. Got feature names with dtypes: ['str', 'tuple']. An error will be raised in 1.2.\n",
      "  FutureWarning,\n"
     ]
    },
    {
     "data": {
      "text/plain": [
       "LinearRegression()"
      ]
     },
     "execution_count": 110,
     "metadata": {},
     "output_type": "execute_result"
    }
   ],
   "source": [
    "#Splitting Dataset into response (y) and predictors (X)\n",
    "X = final_df.drop([\"CVD Prev\"], axis=1)\n",
    "y = final_df[[\"CVD Prev\"]]\n",
    "\n",
    "#Splitting Data into training and testing and fitting linear regression model\n",
    "X_train, X_test, y_train, y_test = train_test_split(X,y,test_size=0.25, random_state=0)\n",
    "\n",
    "#Fitting multivariate linear regression model\n",
    "model = LinearRegression()\n",
    "model.fit(X_train, y_train)"
   ]
  },
  {
   "cell_type": "code",
   "execution_count": 111,
   "metadata": {},
   "outputs": [
    {
     "name": "stderr",
     "output_type": "stream",
     "text": [
      "C:\\Users\\guptaj\\anaconda3\\lib\\site-packages\\sklearn\\utils\\validation.py:1692: FutureWarning: Feature names only support names that are all strings. Got feature names with dtypes: ['str', 'tuple']. An error will be raised in 1.2.\n",
      "  FutureWarning,\n"
     ]
    }
   ],
   "source": [
    "#Using model for prediction of test data\n",
    "y_pred = model.predict(X_test)"
   ]
  },
  {
   "cell_type": "code",
   "execution_count": 112,
   "metadata": {},
   "outputs": [
    {
     "data": {
      "image/png": "[encoded data removed]",
      "text/plain": [
       "<Figure size 432x288 with 1 Axes>"
      ]
     },
     "metadata": {},
     "output_type": "display_data"
    }
   ],
   "source": [
    "#Plotting model predicted CVD prevalence with actual data\n",
    "fig, ax = plt.subplots()\n",
    "ax.scatter(y_pred, y_test, edgecolors=\"forestgreen\")\n",
    "ax.plot([y_test.min(), y_test.max()], [y_test.min(), y_test.max()], 'k--', lw=3)\n",
    "ax.set_xlabel('Predicted')\n",
    "ax.set_ylabel('Actual')\n",
    "plt.show()"
   ]
  },
  {
   "cell_type": "code",
   "execution_count": 113,
   "metadata": {},
   "outputs": [
    {
     "name": "stdout",
     "output_type": "stream",
     "text": [
      "The model performance for testing set\n",
      "--------------------------------------\n",
      "MAE is 0.09458578149549053\n",
      "MSE is 0.016905001168666348\n",
      "R2 score is 0.7515956614387264\n"
     ]
    }
   ],
   "source": [
    "#Evaluating model based on test set\n",
    "mae = metrics.mean_absolute_error(y_test, y_pred)\n",
    "mse = metrics.mean_squared_error(y_test, y_pred)\n",
    "r2 = metrics.r2_score(y_test, y_pred)\n",
    "\n",
    "print(\"The model performance for testing set\")\n",
    "print(\"--------------------------------------\")\n",
    "print('MAE is {}'.format(mae))\n",
    "print('MSE is {}'.format(mse))\n",
    "print('R2 score is {}'.format(r2))"
   ]
  },
  {
   "cell_type": "markdown",
   "metadata": {},
   "source": [
    "With an R^2 value of approximately 0.752, this model explains a significant amount of variance in CVD prevalence. Relatively low values for mean absolute error and mean squared error, the regression model does a fairly good job in predicting CVD prevalence. "
   ]
  },
  {
   "cell_type": "code",
   "execution_count": 114,
   "metadata": {},
   "outputs": [],
   "source": [
    "#Getting our regression coefficients\n",
    "coefs = pd.DataFrame(data = model.coef_).T\n",
    "cols = pd.DataFrame(data=X.columns.values)\n",
    "cols = cols.rename({0:\"Variable\"}, axis=1)\n",
    "coefs = coefs.rename({0:\"Coefficients\"}, axis=1)"
   ]
  },
  {
   "cell_type": "code",
   "execution_count": 115,
   "metadata": {},
   "outputs": [
    {
     "data": {
      "text/html": [
       "<div>\n",
       "<style scoped>\n",
       "    .dataframe tbody tr th:only-of-type {\n",
       "        vertical-align: middle;\n",
       "    }\n",
       "\n",
       "    .dataframe tbody tr th {\n",
       "        vertical-align: top;\n",
       "    }\n",
       "\n",
       "    .dataframe thead th {\n",
       "        text-align: right;\n",
       "    }\n",
       "</style>\n",
       "<table border=\"1\" class=\"dataframe\">\n",
       "  <thead>\n",
       "    <tr style=\"text-align: right;\">\n",
       "      <th></th>\n",
       "      <th>Variable</th>\n",
       "    </tr>\n",
       "  </thead>\n",
       "  <tbody>\n",
       "    <tr>\n",
       "      <th>0</th>\n",
       "      <td>(East Asia &amp; Pacific,)</td>\n",
       "    </tr>\n",
       "    <tr>\n",
       "      <th>1</th>\n",
       "      <td>(Europe &amp; Central Asia,)</td>\n",
       "    </tr>\n",
       "    <tr>\n",
       "      <th>2</th>\n",
       "      <td>(Latin America &amp; Caribbean,)</td>\n",
       "    </tr>\n",
       "    <tr>\n",
       "      <th>3</th>\n",
       "      <td>(Middle East &amp; North Africa,)</td>\n",
       "    </tr>\n",
       "    <tr>\n",
       "      <th>4</th>\n",
       "      <td>(North America,)</td>\n",
       "    </tr>\n",
       "    <tr>\n",
       "      <th>5</th>\n",
       "      <td>(South Asia,)</td>\n",
       "    </tr>\n",
       "    <tr>\n",
       "      <th>6</th>\n",
       "      <td>(Sub-Saharan Africa,)</td>\n",
       "    </tr>\n",
       "    <tr>\n",
       "      <th>7</th>\n",
       "      <td>GDP</td>\n",
       "    </tr>\n",
       "    <tr>\n",
       "      <th>8</th>\n",
       "      <td>Cost of Healthy Diet</td>\n",
       "    </tr>\n",
       "    <tr>\n",
       "      <th>9</th>\n",
       "      <td>PM2.5 Mean Exposure</td>\n",
       "    </tr>\n",
       "    <tr>\n",
       "      <th>10</th>\n",
       "      <td>Crime Index</td>\n",
       "    </tr>\n",
       "  </tbody>\n",
       "</table>\n",
       "</div>"
      ],
      "text/plain": [
       "                         Variable\n",
       "0          (East Asia & Pacific,)\n",
       "1        (Europe & Central Asia,)\n",
       "2    (Latin America & Caribbean,)\n",
       "3   (Middle East & North Africa,)\n",
       "4                (North America,)\n",
       "5                   (South Asia,)\n",
       "6           (Sub-Saharan Africa,)\n",
       "7                             GDP\n",
       "8            Cost of Healthy Diet\n",
       "9             PM2.5 Mean Exposure\n",
       "10                    Crime Index"
      ]
     },
     "execution_count": 115,
     "metadata": {},
     "output_type": "execute_result"
    }
   ],
   "source": [
    "#Getting Variable Names\n",
    "cols"
   ]
  },
  {
   "cell_type": "code",
   "execution_count": 116,
   "metadata": {},
   "outputs": [
    {
     "data": {
      "text/plain": [
       "<matplotlib.axes._subplots.AxesSubplot at 0x219db17e988>"
      ]
     },
     "execution_count": 116,
     "metadata": {},
     "output_type": "execute_result"
    },
    {
     "data": {
      "image/png": "[encoded data removed]",
      "text/plain": [
       "<Figure size 432x288 with 1 Axes>"
      ]
     },
     "metadata": {},
     "output_type": "display_data"
    }
   ],
   "source": [
    "#Plotting Coefficients and Variable Number\n",
    "coefs.plot(kind=\"bar\",title=\"Coefficients By Variable Number\",colormap = \"Accent\")"
   ]
  },
  {
   "cell_type": "code",
   "execution_count": 117,
   "metadata": {},
   "outputs": [
    {
     "data": {
      "text/html": [
       "<div>\n",
       "<style scoped>\n",
       "    .dataframe tbody tr th:only-of-type {\n",
       "        vertical-align: middle;\n",
       "    }\n",
       "\n",
       "    .dataframe tbody tr th {\n",
       "        vertical-align: top;\n",
       "    }\n",
       "\n",
       "    .dataframe thead th {\n",
       "        text-align: right;\n",
       "    }\n",
       "</style>\n",
       "<table border=\"1\" class=\"dataframe\">\n",
       "  <thead>\n",
       "    <tr style=\"text-align: right;\">\n",
       "      <th></th>\n",
       "      <th>Coefficients</th>\n",
       "    </tr>\n",
       "  </thead>\n",
       "  <tbody>\n",
       "    <tr>\n",
       "      <th>0</th>\n",
       "      <td>-0.150579</td>\n",
       "    </tr>\n",
       "    <tr>\n",
       "      <th>1</th>\n",
       "      <td>0.291456</td>\n",
       "    </tr>\n",
       "    <tr>\n",
       "      <th>2</th>\n",
       "      <td>-0.168441</td>\n",
       "    </tr>\n",
       "    <tr>\n",
       "      <th>3</th>\n",
       "      <td>0.024251</td>\n",
       "    </tr>\n",
       "    <tr>\n",
       "      <th>4</th>\n",
       "      <td>0.260050</td>\n",
       "    </tr>\n",
       "    <tr>\n",
       "      <th>5</th>\n",
       "      <td>-0.109809</td>\n",
       "    </tr>\n",
       "    <tr>\n",
       "      <th>6</th>\n",
       "      <td>-0.146929</td>\n",
       "    </tr>\n",
       "    <tr>\n",
       "      <th>7</th>\n",
       "      <td>0.342872</td>\n",
       "    </tr>\n",
       "    <tr>\n",
       "      <th>8</th>\n",
       "      <td>0.408318</td>\n",
       "    </tr>\n",
       "    <tr>\n",
       "      <th>9</th>\n",
       "      <td>-0.359135</td>\n",
       "    </tr>\n",
       "    <tr>\n",
       "      <th>10</th>\n",
       "      <td>-0.141714</td>\n",
       "    </tr>\n",
       "  </tbody>\n",
       "</table>\n",
       "</div>"
      ],
      "text/plain": [
       "    Coefficients\n",
       "0      -0.150579\n",
       "1       0.291456\n",
       "2      -0.168441\n",
       "3       0.024251\n",
       "4       0.260050\n",
       "5      -0.109809\n",
       "6      -0.146929\n",
       "7       0.342872\n",
       "8       0.408318\n",
       "9      -0.359135\n",
       "10     -0.141714"
      ]
     },
     "execution_count": 117,
     "metadata": {},
     "output_type": "execute_result"
    }
   ],
   "source": [
    "coefs"
   ]
  },
  {
   "cell_type": "markdown",
   "metadata": {},
   "source": [
    "We can see from the coefficient results that the average cost of a healthy diet in a country, a country's GDP, qnd country's average PM2.5 exposure all seem to high predictors of the prevalence of cardiovascular diesease in a country. "
   ]
  },
  {
   "cell_type": "markdown",
   "metadata": {},
   "source": [
    "## L1 Regularization with Optimal Alpha"
   ]
  },
  {
   "cell_type": "markdown",
   "metadata": {},
   "source": [
    "We can apply L1 regularization, or lasso regression, to combat any overfitting and conduct variable selection. This method adds absolute value of magnitude of the coefficients in our model as a penalty term to the loss function. "
   ]
  },
  {
   "cell_type": "code",
   "execution_count": 118,
   "metadata": {},
   "outputs": [],
   "source": [
    "#Imports\n",
    "from sklearn.linear_model import Lasso, LassoCV\n",
    "from sklearn.metrics import mean_squared_error"
   ]
  },
  {
   "cell_type": "markdown",
   "metadata": {},
   "source": [
    "We can apply a cross-validation method to find the best alpha value for our model. "
   ]
  },
  {
   "cell_type": "code",
   "execution_count": 119,
   "metadata": {},
   "outputs": [
    {
     "name": "stderr",
     "output_type": "stream",
     "text": [
      "C:\\Users\\guptaj\\anaconda3\\lib\\site-packages\\sklearn\\utils\\validation.py:1692: FutureWarning: Feature names only support names that are all strings. Got feature names with dtypes: ['str', 'tuple']. An error will be raised in 1.2.\n",
      "  FutureWarning,\n",
      "C:\\Users\\guptaj\\anaconda3\\lib\\site-packages\\sklearn\\linear_model\\_coordinate_descent.py:1571: DataConversionWarning: A column-vector y was passed when a 1d array was expected. Please change the shape of y to (n_samples, ), for example using ravel().\n",
      "  y = column_or_1d(y, warn=True)\n"
     ]
    },
    {
     "data": {
      "text/plain": [
       "0.00237525123665079"
      ]
     },
     "execution_count": 119,
     "metadata": {},
     "output_type": "execute_result"
    }
   ],
   "source": [
    "#Applying cross-validation to find best alpha for l1 regularization\n",
    "lcv_model = LassoCV(cv=5)\n",
    "lcv_model.fit(X_train,y_train)\n",
    "lcv_model.alpha_"
   ]
  },
  {
   "cell_type": "markdown",
   "metadata": {},
   "source": [
    "We can see that since the alpha value is quite small, our coefficients will not shrink greatly. We should get similar results as before. "
   ]
  },
  {
   "cell_type": "code",
   "execution_count": 120,
   "metadata": {},
   "outputs": [
    {
     "name": "stderr",
     "output_type": "stream",
     "text": [
      "C:\\Users\\guptaj\\anaconda3\\lib\\site-packages\\sklearn\\utils\\validation.py:1692: FutureWarning: Feature names only support names that are all strings. Got feature names with dtypes: ['str', 'tuple']. An error will be raised in 1.2.\n",
      "  FutureWarning,\n"
     ]
    },
    {
     "data": {
      "text/plain": [
       "Lasso(alpha=0.00237525123665079)"
      ]
     },
     "execution_count": 120,
     "metadata": {},
     "output_type": "execute_result"
    }
   ],
   "source": [
    "#Fitting best model with determined alpha\n",
    "lbest = Lasso(alpha=lcv_model.alpha_)\n",
    "lbest.fit(X_train,y_train)"
   ]
  },
  {
   "cell_type": "code",
   "execution_count": 121,
   "metadata": {},
   "outputs": [
    {
     "name": "stdout",
     "output_type": "stream",
     "text": [
      "[(-0.0, ('East Asia & Pacific',)), (0.4213850682278124, ('Europe & Central Asia',)), (-0.046364317220133955, ('Latin America & Caribbean',)), (0.09859083013921253, ('Middle East & North Africa',)), (0.2873300300354022, ('North America',)), (-0.0, ('South Asia',)), (-0.048931114715671714, ('Sub-Saharan Africa',)), (0.08891405445770079, 'GDP'), (0.22769717584956917, 'Cost of Healthy Diet'), (-0.2535738936966955, 'PM2.5 Mean Exposure'), (-0.03677804552237306, 'Crime Index')]\n"
     ]
    }
   ],
   "source": [
    "print(list(zip(lbest.coef_, X)))"
   ]
  },
  {
   "cell_type": "code",
   "execution_count": 122,
   "metadata": {},
   "outputs": [],
   "source": [
    "lbestcoefs = pd.DataFrame(data = lbest.coef_)\n",
    "lbestcoefs = coefs.rename({0:\"Coefficients\"}, axis=1)"
   ]
  },
  {
   "cell_type": "code",
   "execution_count": 123,
   "metadata": {},
   "outputs": [
    {
     "data": {
      "text/plain": [
       "<matplotlib.axes._subplots.AxesSubplot at 0x219da3f44c8>"
      ]
     },
     "execution_count": 123,
     "metadata": {},
     "output_type": "execute_result"
    },
    {
     "data": {
      "image/png": "[encoded data removed]",
      "text/plain": [
       "<Figure size 432x288 with 1 Axes>"
      ]
     },
     "metadata": {},
     "output_type": "display_data"
    }
   ],
   "source": [
    "lbestcoefs.plot(kind=\"bar\",title=\"Coefficients By Variable Number\",colormap = \"Accent\")"
   ]
  },
  {
   "cell_type": "code",
   "execution_count": 124,
   "metadata": {},
   "outputs": [
    {
     "data": {
      "text/html": [
       "<div>\n",
       "<style scoped>\n",
       "    .dataframe tbody tr th:only-of-type {\n",
       "        vertical-align: middle;\n",
       "    }\n",
       "\n",
       "    .dataframe tbody tr th {\n",
       "        vertical-align: top;\n",
       "    }\n",
       "\n",
       "    .dataframe thead th {\n",
       "        text-align: right;\n",
       "    }\n",
       "</style>\n",
       "<table border=\"1\" class=\"dataframe\">\n",
       "  <thead>\n",
       "    <tr style=\"text-align: right;\">\n",
       "      <th></th>\n",
       "      <th>Coefficients</th>\n",
       "    </tr>\n",
       "  </thead>\n",
       "  <tbody>\n",
       "    <tr>\n",
       "      <th>0</th>\n",
       "      <td>-0.150579</td>\n",
       "    </tr>\n",
       "    <tr>\n",
       "      <th>1</th>\n",
       "      <td>0.291456</td>\n",
       "    </tr>\n",
       "    <tr>\n",
       "      <th>2</th>\n",
       "      <td>-0.168441</td>\n",
       "    </tr>\n",
       "    <tr>\n",
       "      <th>3</th>\n",
       "      <td>0.024251</td>\n",
       "    </tr>\n",
       "    <tr>\n",
       "      <th>4</th>\n",
       "      <td>0.260050</td>\n",
       "    </tr>\n",
       "    <tr>\n",
       "      <th>5</th>\n",
       "      <td>-0.109809</td>\n",
       "    </tr>\n",
       "    <tr>\n",
       "      <th>6</th>\n",
       "      <td>-0.146929</td>\n",
       "    </tr>\n",
       "    <tr>\n",
       "      <th>7</th>\n",
       "      <td>0.342872</td>\n",
       "    </tr>\n",
       "    <tr>\n",
       "      <th>8</th>\n",
       "      <td>0.408318</td>\n",
       "    </tr>\n",
       "    <tr>\n",
       "      <th>9</th>\n",
       "      <td>-0.359135</td>\n",
       "    </tr>\n",
       "    <tr>\n",
       "      <th>10</th>\n",
       "      <td>-0.141714</td>\n",
       "    </tr>\n",
       "  </tbody>\n",
       "</table>\n",
       "</div>"
      ],
      "text/plain": [
       "    Coefficients\n",
       "0      -0.150579\n",
       "1       0.291456\n",
       "2      -0.168441\n",
       "3       0.024251\n",
       "4       0.260050\n",
       "5      -0.109809\n",
       "6      -0.146929\n",
       "7       0.342872\n",
       "8       0.408318\n",
       "9      -0.359135\n",
       "10     -0.141714"
      ]
     },
     "execution_count": 124,
     "metadata": {},
     "output_type": "execute_result"
    }
   ],
   "source": [
    "lbestcoefs"
   ]
  },
  {
   "cell_type": "code",
   "execution_count": 125,
   "metadata": {},
   "outputs": [
    {
     "name": "stdout",
     "output_type": "stream",
     "text": [
      "The model performance for testing set\n",
      "--------------------------------------\n",
      "R^2 training set is 75.00541281002165\n",
      "R^2 test set is 73.3737607575581\n",
      "MSE is 0.01812031980269298\n"
     ]
    },
    {
     "name": "stderr",
     "output_type": "stream",
     "text": [
      "C:\\Users\\guptaj\\anaconda3\\lib\\site-packages\\sklearn\\utils\\validation.py:1692: FutureWarning: Feature names only support names that are all strings. Got feature names with dtypes: ['str', 'tuple']. An error will be raised in 1.2.\n",
      "  FutureWarning,\n",
      "C:\\Users\\guptaj\\anaconda3\\lib\\site-packages\\sklearn\\utils\\validation.py:1692: FutureWarning: Feature names only support names that are all strings. Got feature names with dtypes: ['str', 'tuple']. An error will be raised in 1.2.\n",
      "  FutureWarning,\n",
      "C:\\Users\\guptaj\\anaconda3\\lib\\site-packages\\sklearn\\utils\\validation.py:1692: FutureWarning: Feature names only support names that are all strings. Got feature names with dtypes: ['str', 'tuple']. An error will be raised in 1.2.\n",
      "  FutureWarning,\n"
     ]
    }
   ],
   "source": [
    "#Evaluating model\n",
    "r2train = lbest.score(X_train, y_train)*100\n",
    "r2test = lbest.score(X_test, y_test)*100\n",
    "mse = mean_squared_error(y_test, lbest.predict(X_test))\n",
    "\n",
    "print(\"The model performance for testing set\")\n",
    "print(\"--------------------------------------\")\n",
    "print('R^2 training set is {}'.format(r2train))\n",
    "print('R^2 test set is {}'.format(r2test))\n",
    "print('MSE is {}'.format(mse))"
   ]
  },
  {
   "cell_type": "markdown",
   "metadata": {},
   "source": [
    "The virtually no change in coefficients indicates that either overfitting was not a problem for our original model or that the original model is simply not improved by L1 Regularization. "
   ]
  },
  {
   "cell_type": "code",
   "execution_count": 126,
   "metadata": {},
   "outputs": [
    {
     "data": {
      "text/plain": [
       "Text(0.5, 1.0, 'Mean square error on each fold')"
      ]
     },
     "execution_count": 126,
     "metadata": {},
     "output_type": "execute_result"
    },
    {
     "data": {
      "image/png": "[encoded data removed]",
      "text/plain": [
       "<Figure size 432x288 with 1 Axes>"
      ]
     },
     "metadata": {},
     "output_type": "display_data"
    }
   ],
   "source": [
    "#Plotting Mean Squared Error with several alphas\n",
    "plt.semilogx(lcv_model.alphas_, lcv_model.mse_path_, \":\")\n",
    "plt.plot(lcv_model.alphas_ ,lcv_model.mse_path_.mean(axis=-1),\"k\",label=\"Average across the folds\",linewidth=2)\n",
    "plt.axvline(lcv_model.alpha_, linestyle=\"--\", color=\"k\", label=\"alpha: CV estimate\")\n",
    "plt.legend()\n",
    "plt.xlabel(\"alphas\")\n",
    "plt.ylabel(\"Mean square error\")\n",
    "plt.title(\"Mean square error on each fold\")"
   ]
  },
  {
   "cell_type": "markdown",
   "metadata": {},
   "source": [
    "From the plot above, we can see that across various alpha values, the mean squared error largely stays consistent, though increased greatly in between 0.1 and 1. "
   ]
  },
  {
   "cell_type": "markdown",
   "metadata": {},
   "source": [
    "# Data Sources and Citations\n",
    "- [1] Bhatnagar A. (2017). Environmental Determinants of Cardiovascular Disease. Circulation research, 121(2), 162–180. Retrieved July 14, 2023, from https://doi.org/10.1161/CIRCRESAHA.117.306458\n",
    "- [2] Melillo, G. (2022, July 14). Heart disease deaths fall in areas with lower violent crime rates. The Hill. Retrieved July 14, 2023, from https://thehill.com/changing-america/well-being/longevity/3559359-heart-disease-deaths-fall-in-areas-with-lower-violent-crime-rates/\n",
    "- [3] Global Burden of Disease Collaborative Network. (n.d.). Global Burden of Disease Study 2019 (GBD 2019) Data Resources | GHDx. Ghdx.healthdata.org; Institute for Health Metrics and Evaluation (IHME). Retrieved July 14, 2023, from https://ghdx.healthdata.org/gbd-2019\n",
    "- [4] The World Bank. (2011). GDP (current US$) | Data. Worldbank.org. Retrieved July 14, 2023, from https://data.worldbank.org/indicator/NY.GDP.MKTP.PP.CD \n",
    "- [5] Food and Agriculture Organization of the United Nations (n.d.). Cost and Affordability of a Healthy Diet (CoAHD). FAOSTAT. Retrieved July 14, 2023, from https://www.fao.org/faostat/en/#data/CAHD \n",
    "- [6] Ritchie, H., & Roser, M. (2019, November 12). Outdoor Air Pollution. Our World in Data. Retrieved July 14, 2023, from https://ourworldindata.org/outdoor-air-pollution#citation  \n",
    "- [7] Numbeo. (2019). Crime Index by Country 2019. Numbeo.com. Retrieved July 14, 2023, from https://www.numbeo.com/crime/rankings_by_country.jsp"
   ]
  }
 ],
 "metadata": {
  "kernelspec": {
   "display_name": "Python 3",
   "language": "python",
   "name": "python3"
  },
  "language_info": {
   "codemirror_mode": {
    "name": "ipython",
    "version": 3
   },
   "file_extension": ".py",
   "mimetype": "text/x-python",
   "name": "python",
   "nbconvert_exporter": "python",
   "pygments_lexer": "ipython3",
   "version": "3.7.6"
  }
 },
 "nbformat": 4,
 "nbformat_minor": 4
}
